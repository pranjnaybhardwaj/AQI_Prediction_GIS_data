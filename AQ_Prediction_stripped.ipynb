{
 "cells": [
  {
   "cell_type": "code",
   "execution_count": null,
   "id": "3a8a3c68",
   "metadata": {
    "id": "3a8a3c68",
    "outputId": "bb4a6596-cf16-40cb-97e5-16abe76fd6d6"
   },
   "outputs": [],
   "source": [
    "import pandas as pd\n",
    "import os\n",
    "import glob\n",
    "\n",
    "folder_path = 'C:/Users/pranj/Downloads/Pollutrack_Dublin_2022_2023/Pollutrack_Dublin_2022_2023'\n",
    "\n",
    "\n",
    "dfs = []\n",
    "\n",
    "\n",
    "file_pattern = os.path.join(folder_path, '*.csv')\n",
    "\n",
    "file_paths = glob.glob(file_pattern)\n",
    "\n",
    "\n",
    "for file_path in file_paths:\n",
    "\n",
    "    df = pd.read_csv(file_path)\n",
    "    dfs.append(df)\n",
    "\n",
    "\n",
    "\n",
    "print('List of DataFrames:')\n",
    "print(dfs)\n",
    "\n",
    "\n",
    "if not dfs:\n",
    "    raise ValueError(\"No DataFrames were loaded\")\n",
    "\n",
    "final_df = pd.concat(dfs, ignore_index=True)\n",
    "\n",
    "output_file = \"C:/Users/pranj/output_new_dpd_data/final_output2.csv\"\n",
    "\n",
    "final_df.to_csv(output_file, index=False)\n",
    "\n",
    "print(f'Merged CSV files saved to {output_file}')\n"
   ]
  },
  {
   "cell_type": "code",
   "execution_count": null,
   "id": "b7557b41",
   "metadata": {
    "id": "b7557b41"
   },
   "outputs": [],
   "source": [
    "\n",
    "##The `os` module provides a way of interacting with the operating system, including file and directory operations.\n",
    "##The `glob` module helps find all the pathnames matching a specified pattern according to the rules used by the Unix shell.\n",
    "\n"
   ]
  },
  {
   "cell_type": "code",
   "execution_count": null,
   "id": "2809f355",
   "metadata": {
    "id": "2809f355"
   },
   "outputs": [],
   "source": [
    "import pandas as pd"
   ]
  },
  {
   "cell_type": "code",
   "execution_count": null,
   "id": "5xPqlJ-tIRw8",
   "metadata": {
    "colab": {
     "base_uri": "https://localhost:8080/"
    },
    "id": "5xPqlJ-tIRw8",
    "outputId": "8d425746-c77b-4e98-c7f7-ac9e7bd2ba2f"
   },
   "outputs": [],
   "source": [
    "from google.colab import drive\n",
    "drive.mount('/content/drive')"
   ]
  },
  {
   "cell_type": "markdown",
   "id": "qGjJaSEkFIy8",
   "metadata": {
    "id": "qGjJaSEkFIy8"
   },
   "source": []
  },
  {
   "cell_type": "code",
   "execution_count": null,
   "id": "1pjZI7OFJ5bl",
   "metadata": {
    "id": "1pjZI7OFJ5bl"
   },
   "outputs": [],
   "source": [
    "mdata=pd.read_csv(\"/content/drive/My Drive/Practicum/final_output_new.csv\")\n"
   ]
  },
  {
   "cell_type": "code",
   "execution_count": null,
   "id": "fbea14cd",
   "metadata": {
    "colab": {
     "base_uri": "https://localhost:8080/"
    },
    "id": "fbea14cd",
    "outputId": "028c0915-bb64-4a03-af55-462769dff9c0"
   },
   "outputs": [],
   "source": [
    "mdata.info()"
   ]
  },
  {
   "cell_type": "code",
   "execution_count": null,
   "id": "c449e233",
   "metadata": {
    "colab": {
     "base_uri": "https://localhost:8080/",
     "height": 206
    },
    "id": "c449e233",
    "outputId": "1a4c8be4-e93d-40ba-c0a5-318aa73f8d5e"
   },
   "outputs": [],
   "source": [
    "mdata.head()"
   ]
  },
  {
   "cell_type": "code",
   "execution_count": null,
   "id": "feea043c",
   "metadata": {
    "id": "feea043c",
    "outputId": "04c604f2-7543-4f1a-a016-a9c693e2b03e"
   },
   "outputs": [],
   "source": [
    "mdata.tail()"
   ]
  },
  {
   "cell_type": "code",
   "execution_count": null,
   "id": "2d73a689",
   "metadata": {
    "id": "2d73a689"
   },
   "outputs": [],
   "source": [
    "mdata_df = mdata.sort_values(by=['time (UTC)'])"
   ]
  },
  {
   "cell_type": "code",
   "execution_count": null,
   "id": "2d6a507d",
   "metadata": {
    "id": "2d6a507d"
   },
   "outputs": [],
   "source": [
    "max_date_time = mdata2['time (UTC)'].max()"
   ]
  },
  {
   "cell_type": "code",
   "execution_count": null,
   "id": "6049d1ee",
   "metadata": {
    "id": "6049d1ee",
    "outputId": "b41c1482-2f9a-43d7-cef5-6c70ebb58fdc"
   },
   "outputs": [],
   "source": [
    "max_date_time"
   ]
  },
  {
   "cell_type": "code",
   "execution_count": null,
   "id": "42fc3fc0",
   "metadata": {
    "id": "42fc3fc0"
   },
   "outputs": [],
   "source": [
    "min_date_time = mdata2['time (UTC)'].min()"
   ]
  },
  {
   "cell_type": "code",
   "execution_count": null,
   "id": "50499c16",
   "metadata": {
    "id": "50499c16",
    "outputId": "8fd0c704-695b-44f7-ef8d-27fb3e43f3ef"
   },
   "outputs": [],
   "source": [
    "min_date_time"
   ]
  },
  {
   "cell_type": "code",
   "execution_count": null,
   "id": "b04b9002",
   "metadata": {
    "id": "b04b9002"
   },
   "outputs": [],
   "source": [
    "mdata[\"time (UTC)\"] = pd.to_datetime(mdata[\"time (UTC)\"], format=\"%Y:%m:%d-%H:%M:%S\")"
   ]
  },
  {
   "cell_type": "code",
   "execution_count": null,
   "id": "073edd8a",
   "metadata": {
    "colab": {
     "base_uri": "https://localhost:8080/",
     "height": 206
    },
    "id": "073edd8a",
    "outputId": "3eb45865-dcbf-4714-b01f-524e880bf14f"
   },
   "outputs": [],
   "source": [
    "mdata.head()"
   ]
  },
  {
   "cell_type": "code",
   "execution_count": null,
   "id": "937cf713",
   "metadata": {
    "id": "937cf713"
   },
   "outputs": [],
   "source": [
    "max_date_time = mdata_df['date_only'].max()"
   ]
  },
  {
   "cell_type": "code",
   "execution_count": null,
   "id": "dc818ab7",
   "metadata": {
    "id": "dc818ab7",
    "outputId": "51939a34-94cd-45d2-dd83-cb46f20a76f4"
   },
   "outputs": [],
   "source": [
    "max_date_time"
   ]
  },
  {
   "cell_type": "code",
   "execution_count": null,
   "id": "485fb50f",
   "metadata": {
    "id": "485fb50f"
   },
   "outputs": [],
   "source": [
    "shape_tuple = mdata.shape\n",
    "row_count = shape_tuple[0]"
   ]
  },
  {
   "cell_type": "code",
   "execution_count": null,
   "id": "d5e4957e",
   "metadata": {
    "colab": {
     "base_uri": "https://localhost:8080/"
    },
    "id": "d5e4957e",
    "outputId": "10f926db-cc95-406c-ad0d-929a32f8b10e"
   },
   "outputs": [],
   "source": [
    "row_count"
   ]
  },
  {
   "cell_type": "code",
   "execution_count": null,
   "id": "313a6859",
   "metadata": {
    "id": "313a6859",
    "outputId": "ebdef04c-869f-4e0e-b3ba-08b5eed7ea08"
   },
   "outputs": [],
   "source": [
    "column_counts = mdata2.count()\n",
    "column_counts"
   ]
  },
  {
   "cell_type": "code",
   "execution_count": null,
   "id": "62b42dd9",
   "metadata": {
    "id": "62b42dd9",
    "outputId": "f328f915-5c90-450b-f03d-bc29dd7037bd"
   },
   "outputs": [],
   "source": [
    "pip install folium"
   ]
  },
  {
   "cell_type": "code",
   "execution_count": null,
   "id": "a46db248",
   "metadata": {
    "id": "a46db248"
   },
   "outputs": [],
   "source": [
    "import pandas as pd\n",
    "import numpy as np\n",
    "import datetime as dt\n",
    "from geopy.geocoders import Nominatim\n",
    "from geopy.point import Point\n",
    "import seaborn as sns\n",
    "import folium\n",
    "from folium.plugins import HeatMap\n",
    "import plotly.express as px\n",
    "import geopandas as gpd\n",
    "from shapely import wkt\n",
    "from sklearn.preprocessing import MinMaxScaler\n",
    "from shapely.geometry import Point, LineString, Polygon, MultiPoint\n",
    "import warnings\n",
    "import matplotlib.pyplot as plt\n",
    "%matplotlib inline\n",
    "\n",
    "plt.rcParams[\"figure.dpi\"] = 100\n",
    "plt.rcParams[\"figure.figsize\"] = (8, 8)\n",
    "\n",
    "\n",
    "warnings.simplefilter(\"ignore\")"
   ]
  },
  {
   "cell_type": "code",
   "execution_count": null,
   "id": "17198887",
   "metadata": {
    "id": "17198887"
   },
   "outputs": [],
   "source": [
    "mdata['date_time'] = pd.to_datetime(mdata['time (UTC)'], format='%Y:%m:%d-%H:%M:%S')\n"
   ]
  },
  {
   "cell_type": "code",
   "execution_count": null,
   "id": "224f71f1",
   "metadata": {
    "colab": {
     "base_uri": "https://localhost:8080/",
     "height": 206
    },
    "id": "224f71f1",
    "outputId": "6db3a371-3c8b-4819-b696-a907727a1d56"
   },
   "outputs": [],
   "source": [
    "mdata.head()"
   ]
  },
  {
   "cell_type": "code",
   "execution_count": null,
   "id": "9pp0MX5QfgPu",
   "metadata": {
    "colab": {
     "base_uri": "https://localhost:8080/"
    },
    "id": "9pp0MX5QfgPu",
    "outputId": "29f0d4a5-00d9-4fce-edd1-f864bd663cd4"
   },
   "outputs": [],
   "source": [
    "mdata['date_time'] = pd.to_datetime(mdata['date_time'])\n",
    "\n",
    "\n",
    "mdata = mdata.sort_values('date_time')\n",
    "\n",
    "mdata['time_diff'] = mdata['date_time'].diff()\n",
    "\n",
    "\n",
    "mdata = mdata.dropna(subset=['time_diff'])\n",
    "\n",
    "mdata['time_diff_seconds'] = mdata['time_diff'].dt.total_seconds()\n",
    "\n",
    "mean_sampling_rate = mdata['time_diff_seconds'].mean()\n",
    "median_sampling_rate = mdata['time_diff_seconds'].median()\n",
    "\n",
    "print(f\"Mean Sampling Rate: {mean_sampling_rate} seconds\")\n",
    "print(f\"Median Sampling Rate: {median_sampling_rate} seconds\")"
   ]
  },
  {
   "cell_type": "code",
   "execution_count": null,
   "id": "c50e727f",
   "metadata": {
    "id": "c50e727f"
   },
   "outputs": [],
   "source": [
    "mdata['day_name'] = mdata['date_time'].dt.day_name()\n",
    "mdata['year'] = mdata['date_time'].dt.year\n",
    "mdata['month'] = mdata['date_time'].dt.month\n",
    "mdata['hour'] = mdata['date_time'].dt.hour\n",
    "mdata['day'] = mdata['date_time'].dt.day"
   ]
  },
  {
   "cell_type": "code",
   "execution_count": null,
   "id": "5d815908",
   "metadata": {
    "colab": {
     "base_uri": "https://localhost:8080/"
    },
    "id": "5d815908",
    "outputId": "7d97b4df-f471-4a72-e037-46d20d2f19eb"
   },
   "outputs": [],
   "source": [
    "mdata[mdata['hour'] == 00].max()"
   ]
  },
  {
   "cell_type": "code",
   "execution_count": null,
   "id": "bce896aa",
   "metadata": {
    "colab": {
     "base_uri": "https://localhost:8080/",
     "height": 423
    },
    "id": "bce896aa",
    "outputId": "fe8fb71e-f325-4a33-a479-55ca4d8de46c"
   },
   "outputs": [],
   "source": [
    "mdata[mdata['hour']==23]"
   ]
  },
  {
   "cell_type": "code",
   "execution_count": null,
   "id": "c7459f27",
   "metadata": {
    "id": "c7459f27",
    "outputId": "21b0e523-80eb-4d87-f64f-fff35b290f0e"
   },
   "outputs": [],
   "source": [
    "mdata.info()"
   ]
  },
  {
   "cell_type": "code",
   "execution_count": null,
   "id": "13485527",
   "metadata": {
    "id": "13485527"
   },
   "outputs": [],
   "source": [
    "dfjan=mdata[mdata['month']==1]"
   ]
  },
  {
   "cell_type": "code",
   "execution_count": null,
   "id": "5ea9ab33",
   "metadata": {
    "id": "5ea9ab33"
   },
   "outputs": [],
   "source": [
    "unique_months = dfjan['month'].unique()"
   ]
  },
  {
   "cell_type": "code",
   "execution_count": null,
   "id": "e5ad1446",
   "metadata": {
    "id": "e5ad1446",
    "outputId": "2cff5de5-d35c-4182-b35a-ba76fde38401"
   },
   "outputs": [],
   "source": [
    "unique_months"
   ]
  },
  {
   "cell_type": "code",
   "execution_count": null,
   "id": "05e5e093",
   "metadata": {
    "id": "05e5e093",
    "outputId": "0be806aa-6e45-4c00-ceb5-ee9a0ea8d800"
   },
   "outputs": [],
   "source": [
    "\n",
    "\n",
    "days_order = [\"Monday\", \"Tuesday\", \"Wednesday\", \"Thursday\", \"Friday\", \"Saturday\", \"Sunday\"]\n",
    "mdata['day_name'] = pd.Categorical(mdata['day_name'], categories=days_order, ordered=True)\n",
    "\n",
    "plt.figure(figsize=(10, 5))\n",
    "plt.plot(mdata.groupby(\"day_name\")['pm10.0'].mean(), label='PM10', color='blue', marker='o', linestyle='-')\n",
    "\n",
    "plt.plot(mdata.groupby(\"day_name\")['pm2.5'].mean(), label='PM2.5', color='red', marker='o', linestyle='-')\n",
    "\n",
    "plt.plot(mdata.groupby(\"day_name\")['pm1.0'].mean(), label='PM1.0', color='green', marker='o', linestyle='-')\n",
    "\n",
    "\n",
    "plt.xlabel('Days')\n",
    "plt.ylabel('Concentration (ug/m3)')\n",
    "plt.title('Variation of PM1.0, PM2.5, and PM10 over Time')\n",
    "plt.legend()\n",
    "plt.xticks(rotation=45)\n",
    "plt.tight_layout()\n",
    "\n",
    "\n",
    "plt.show()\n"
   ]
  },
  {
   "cell_type": "code",
   "execution_count": null,
   "id": "0102e1c1",
   "metadata": {
    "id": "0102e1c1",
    "outputId": "864123d9-9851-4ae6-946a-dced07840f8b"
   },
   "outputs": [],
   "source": [
    "import matplotlib.pyplot as plt\n",
    "import pandas as pd\n",
    "\n",
    "days_order = [\"Monday\", \"Tuesday\", \"Wednesday\", \"Thursday\", \"Friday\", \"Saturday\", \"Sunday\"]\n",
    "mdata['day_name'] = pd.Categorical(mdata['day_name'], categories=days_order, ordered=True)\n",
    "\n",
    "plt.figure(figsize=(10, 5))\n",
    "plt.plot(mdata.groupby(\"day_name\")['pm10.0'].mean(), label='PM10', color='blue', marker='o', linestyle='-')\n",
    "\n",
    "\n",
    "plt.plot(mdata.groupby(\"day_name\")['pm2.5'].mean(), label='PM2.5', color='red', marker='o', linestyle='-')\n",
    "\n",
    "\n",
    "plt.plot(mdata.groupby(\"day_name\")['pm1.0'].mean(), label='PM1.0', color='green', marker='o', linestyle='-')\n",
    "\n",
    "plt.xlabel('Days')\n",
    "plt.ylabel('Concentration (ug/m3)')\n",
    "plt.title('Variation of PM1.0, PM2.5, and PM10 over Time')\n",
    "plt.legend()\n",
    "\n",
    "plt.ylim(0, 10)\n",
    "\n",
    "plt.xticks(range(len(days_order)), days_order, rotation=45)\n",
    "\n",
    "plt.tight_layout()\n",
    "\n",
    "plt.show()\n"
   ]
  },
  {
   "cell_type": "code",
   "execution_count": null,
   "id": "370bf067",
   "metadata": {
    "id": "370bf067",
    "outputId": "18d52636-14f4-472a-fbbc-5856fcef691e"
   },
   "outputs": [],
   "source": [
    "\n",
    "days_order = [\"Monday\", \"Tuesday\", \"Wednesday\", \"Thursday\", \"Friday\", \"Saturday\", \"Sunday\"]\n",
    "mdata['day_name'] = pd.Categorical(mdata['day_name'], categories=days_order, ordered=True)\n",
    "\n",
    "\n",
    "pm1_mean = mdata.groupby(\"day_name\")['pm1.0'].mean()\n",
    "pm2_5_mean = mdata.groupby(\"day_name\")['pm2.5'].mean()\n",
    "pm10_mean = mdata.groupby(\"day_name\")['pm10.0'].mean()\n",
    "\n",
    "print(\"Mean PM1.0:\\n\", pm1_mean)\n",
    "print(\"Mean PM2.5:\\n\", pm2_5_mean)\n",
    "print(\"Mean PM10.0:\\n\", pm10_mean)\n"
   ]
  },
  {
   "cell_type": "code",
   "execution_count": null,
   "id": "63717781",
   "metadata": {
    "id": "63717781",
    "outputId": "10f2173e-4e36-41b2-d9d0-90bac3f3bba6"
   },
   "outputs": [],
   "source": [
    "\n",
    "mdata['month'] = pd.to_numeric(mdata['month'], errors='coerce')\n",
    "pm1_mean = mdata.groupby(\"month\")['pm1.0'].mean()\n",
    "pm2_5_mean = mdata.groupby(\"month\")['pm2.5'].mean()\n",
    "pm10_mean = mdata.groupby(\"month\")['pm10.0'].mean()\n",
    "\n",
    "print(\"Mean PM1.0:\\n\", pm1_mean)\n",
    "print(\"Mean PM2.5:\\n\", pm2_5_mean)\n",
    "print(\"Mean PM10.0:\\n\", pm10_mean)\n"
   ]
  },
  {
   "cell_type": "code",
   "execution_count": null,
   "id": "5972d7b8",
   "metadata": {
    "id": "5972d7b8",
    "outputId": "c517cf3a-e91f-4884-bbae-28707bf00d2e"
   },
   "outputs": [],
   "source": [
    "print(\"Missing values in pm1.0 column:\", mdata['pm1.0'].isnull().sum())\n",
    "print(\"Missing values in pm2.5 column:\", mdata['pm2.5'].isnull().sum())\n",
    "print(\"Missing values in pm10.0 column:\", mdata['pm10.0'].isnull().sum())\n",
    "\n",
    "non_numeric_values_pm1 = mdata[pd.to_numeric(mdata['pm1.0'], errors='coerce').isnull()]\n",
    "print(\"Non-numeric values in pm1.0 column:\\n\", non_numeric_values_pm1)\n"
   ]
  },
  {
   "cell_type": "code",
   "execution_count": null,
   "id": "0dcef4ba",
   "metadata": {
    "id": "0dcef4ba",
    "outputId": "d0430307-9d4b-4d83-e042-786ce721f156"
   },
   "outputs": [],
   "source": [
    "print(mdata[mdata['month'] == 1])\n"
   ]
  },
  {
   "cell_type": "code",
   "execution_count": null,
   "id": "697dd8f3",
   "metadata": {
    "id": "697dd8f3",
    "outputId": "c540ed00-ad25-4d41-de6a-be7cf546ee1a",
    "scrolled": true
   },
   "outputs": [],
   "source": [
    "print(mdata['month'].unique())\n"
   ]
  },
  {
   "cell_type": "code",
   "execution_count": null,
   "id": "da1d83d7",
   "metadata": {
    "id": "da1d83d7",
    "outputId": "08792516-826d-4adf-80e4-e1a9a3df52ac"
   },
   "outputs": [],
   "source": [
    "distinct_months = mdata['month'].unique()\n",
    "\n",
    "print(\"Distinct Months:\", distinct_months)"
   ]
  },
  {
   "cell_type": "code",
   "execution_count": null,
   "id": "b338a4aa",
   "metadata": {
    "id": "b338a4aa",
    "outputId": "1c3e43eb-1912-4d60-9c2c-d45c214e7e86"
   },
   "outputs": [],
   "source": [
    "\n",
    "pm1_mean = mdata.groupby(\"year\")['pm1.0'].mean()\n",
    "pm2_5_mean = mdata.groupby(\"year\")['pm2.5'].mean()\n",
    "pm10_mean = mdata.groupby(\"year\")['pm10.0'].mean()\n",
    "\n",
    "\n",
    "print(\"Mean PM1.0 by Year:\\n\", pm1_mean)\n",
    "print(\"Mean PM2.5 by Year:\\n\", pm2_5_mean)\n",
    "print(\"Mean PM10.0 by Year:\\n\", pm10_mean)\n"
   ]
  },
  {
   "cell_type": "code",
   "execution_count": null,
   "id": "9bc91a17",
   "metadata": {
    "id": "9bc91a17",
    "outputId": "48be2745-3b35-4ffc-e0b8-bdbcc41e06a5"
   },
   "outputs": [],
   "source": [
    "mdata['month'] = pd.to_numeric(mdata['month'], errors='coerce')\n",
    "\n",
    "\n",
    "pm1_mean = mdata.groupby([\"year\", \"month\"])['pm1.0'].mean()\n",
    "pm2_5_mean = mdata.groupby([\"year\", \"month\"])['pm2.5'].mean()\n",
    "pm10_mean = mdata.groupby([\"year\", \"month\"])['pm10.0'].mean()\n",
    "\n",
    "print(\"Mean PM1.0 by Year and Month:\\n\", pm1_mean)\n",
    "print(\"Mean PM2.5 by Year and Month:\\n\", pm2_5_mean)\n",
    "print(\"Mean PM10.0 by Year and Month:\\n\", pm10_mean)"
   ]
  },
  {
   "cell_type": "code",
   "execution_count": null,
   "id": "10547302",
   "metadata": {
    "id": "10547302"
   },
   "outputs": [],
   "source": [
    "m=mdata['month'].unique()"
   ]
  },
  {
   "cell_type": "code",
   "execution_count": null,
   "id": "aae7c45b",
   "metadata": {
    "id": "aae7c45b",
    "outputId": "eb9858d0-3de1-435b-f637-bc8786722ae7"
   },
   "outputs": [],
   "source": [
    "\n",
    "mdata['month'] = pd.to_numeric(mdata['month'], errors='coerce')\n",
    "\n",
    "pm1_mean = mdata.groupby([\"year\", \"month\"])['pm1.0'].mean()\n",
    "pm2_5_mean = mdata.groupby([\"year\", \"month\"])['pm2.5'].mean()\n",
    "pm10_mean = mdata.groupby([\"year\", \"month\"])['pm10.0'].mean()\n",
    "\n",
    "\n",
    "mean_values = pd.DataFrame({\n",
    "    'PM1.0': pm1_mean.values,\n",
    "    'PM2.5': pm2_5_mean.values,\n",
    "    'PM10.0': pm10_mean.values\n",
    "}, index=pm1_mean.index)\n",
    "\n",
    "\n",
    "plt.figure(figsize=(12, 6))\n",
    "mean_values.plot(marker='o')\n",
    "\n",
    "\n",
    "plt.ylim(0, 20)\n",
    "plt.xlabel('Year-Month')\n",
    "plt.ylabel('Concentration (ug/m3)')\n",
    "plt.title('Mean PM1.0, PM2.5, and PM10.0 by Year and Month')\n",
    "plt.xticks(rotation=45)\n",
    "plt.legend()\n",
    "\n",
    "plt.tight_layout()\n",
    "plt.show()\n"
   ]
  },
  {
   "cell_type": "code",
   "execution_count": null,
   "id": "0a6f6d31",
   "metadata": {
    "id": "0a6f6d31",
    "outputId": "367bf766-30dc-47f3-b6fd-77eb0c0adf20"
   },
   "outputs": [],
   "source": [
    "mdata.head()"
   ]
  },
  {
   "cell_type": "code",
   "execution_count": null,
   "id": "b765e4a2",
   "metadata": {
    "id": "b765e4a2",
    "outputId": "3a767c9f-19b7-4fbe-a476-c6f034982aae"
   },
   "outputs": [],
   "source": [
    "cats = ['Monday', 'Tuesday', 'Wednesday', 'Thursday', 'Friday', 'Saturday', 'Sunday']\n",
    "\n",
    "pm_df = pd.DataFrame(columns=['pollutant', 'day', 'mean_concentration'])\n",
    "pm_df['day'] = mdata.groupby(['day_name'])['pm2.5'].mean().reindex(cats).index\n",
    "pm_df['mean_concentration'] = mdata.groupby(['day_name'])['pm2.5'].mean().reindex(cats).values\n",
    "pm_df['pollutant'] = 'PM2.5'\n",
    "\n",
    "\n",
    "pm_10_df = pd.DataFrame(columns=['pollutant', 'day', 'mean_concentration'])\n",
    "pm_10_df['day'] = mdata.groupby(['day_name'])['pm10.0'].mean().reindex(cats).index\n",
    "pm_10_df['mean_concentration'] = mdata.groupby(['day_name'])['pm10.0'].mean().reindex(cats).values\n",
    "pm_10_df['pollutant'] = 'PM10'\n",
    "\n",
    "\n",
    "pm_1_df = pd.DataFrame(columns=['pollutant', 'day', 'mean_concentration'])\n",
    "pm_1_df['day'] = mdata.groupby(['day_name'])['pm1.0'].mean().reindex(cats).index\n",
    "pm_1_df['mean_concentration'] = mdata.groupby(['day_name'])['pm1.0'].mean().reindex(cats).values\n",
    "pm_1_df['pollutant'] = 'pm1.0'\n",
    "\n",
    "\n",
    "final_df = pd.concat([pm_df, pm_10_df,pm_1_df])\n",
    "\n",
    "ax = plt.axes()\n",
    "sns.heatmap(final_df.pivot(index=\"day\", columns=\"pollutant\", values=\"mean_concentration\").reindex(cats).transpose(), annot=True, cmap=\"coolwarm\")\n",
    "\n",
    "plt.yticks(rotation=0)\n",
    "plt.xticks(rotation=45)\n",
    "plt.show()\n"
   ]
  },
  {
   "cell_type": "code",
   "execution_count": null,
   "id": "0e5e723b",
   "metadata": {
    "id": "0e5e723b",
    "outputId": "0b1adfd4-cfb5-433e-8326-a06fed17bb6a"
   },
   "outputs": [],
   "source": [
    "mdata.count() if day_name=\"wednesday\" then"
   ]
  },
  {
   "cell_type": "code",
   "execution_count": null,
   "id": "fbc730ea",
   "metadata": {
    "id": "fbc730ea"
   },
   "outputs": [],
   "source": [
    "wed_count=mdata[mdata['day_name']=='Wednesday'].count()"
   ]
  },
  {
   "cell_type": "code",
   "execution_count": null,
   "id": "b8d6d63c",
   "metadata": {
    "id": "b8d6d63c",
    "outputId": "77aa500d-a00a-4645-e38c-e41163ef06e5"
   },
   "outputs": [],
   "source": [
    "wed_count"
   ]
  },
  {
   "cell_type": "code",
   "execution_count": null,
   "id": "2df81be1",
   "metadata": {
    "id": "2df81be1"
   },
   "outputs": [],
   "source": [
    "day_counts = mdata['day'].value_counts().sort_values()"
   ]
  },
  {
   "cell_type": "code",
   "execution_count": null,
   "id": "0eb606f3",
   "metadata": {
    "id": "0eb606f3",
    "outputId": "292b2bc1-fa15-4b13-c48b-07ba1d7a1cb8"
   },
   "outputs": [],
   "source": [
    "day_counts"
   ]
  },
  {
   "cell_type": "code",
   "execution_count": null,
   "id": "e7a8bcf9",
   "metadata": {
    "id": "e7a8bcf9"
   },
   "outputs": [],
   "source": [
    "dayname_counts = mdata['day_name'].value_counts()"
   ]
  },
  {
   "cell_type": "code",
   "execution_count": null,
   "id": "75099323",
   "metadata": {
    "id": "75099323",
    "outputId": "df67e235-e8bf-44f5-8eba-dbe9548ad69b"
   },
   "outputs": [],
   "source": [
    "dayname_counts"
   ]
  },
  {
   "cell_type": "code",
   "execution_count": null,
   "id": "54ae6b84",
   "metadata": {
    "id": "54ae6b84"
   },
   "outputs": [],
   "source": [
    "sensor_counts_per_day = mdata.groupby('day_name')['sensor_id'].nunique()"
   ]
  },
  {
   "cell_type": "code",
   "execution_count": null,
   "id": "8e12bb44",
   "metadata": {
    "id": "8e12bb44",
    "outputId": "577249a4-9b28-4f25-de7b-e0d7cbc65397"
   },
   "outputs": [],
   "source": [
    "sensor_counts_per_day"
   ]
  },
  {
   "cell_type": "code",
   "execution_count": null,
   "id": "754bbcc9",
   "metadata": {
    "id": "754bbcc9",
    "outputId": "5b4ff326-a0f9-4ba7-b263-59087815e6b6"
   },
   "outputs": [],
   "source": [
    "\n",
    "\n",
    "wednesday_data = mdata[mdata['day_name'] == 'Wednesday']\n",
    "\n",
    "pm_column = 'pm2.5'\n",
    "\n",
    "\n",
    "Q1 = wednesday_data[pm_column].quantile(0.25)\n",
    "Q3 = wednesday_data[pm_column].quantile(0.75)\n",
    "IQR = Q3 - Q1\n",
    "\n",
    "\n",
    "lower_bound = Q1 - 1.5 * IQR\n",
    "upper_bound = Q3 + 1.5 * IQR\n",
    "\n",
    "\n",
    "outliers = wednesday_data[(wednesday_data[pm_column] < lower_bound) | (wednesday_data[pm_column] > upper_bound)]\n",
    "\n",
    "print(\"Outliers for PM on Wednesdays:\")\n",
    "print(outliers)\n"
   ]
  },
  {
   "cell_type": "code",
   "execution_count": null,
   "id": "37894ca0",
   "metadata": {
    "id": "37894ca0",
    "outputId": "391ee54f-84a9-45a1-938b-fbd3cd32a41c"
   },
   "outputs": [],
   "source": [
    "wednesday_data = mdata[mdata['day_name'] == 'Wednesday']\n",
    "\n",
    "pm_column = 'pm2.5'\n",
    "\n",
    "\n",
    "plt.figure(figsize=(8, 6))\n",
    "sns.boxplot(x='day_name', y=pm_column, data=wednesday_data)\n",
    "plt.title(f'Boxplot of {pm_column} on Wednesdays')\n",
    "plt.show()\n"
   ]
  },
  {
   "cell_type": "code",
   "execution_count": null,
   "id": "634ea7d6",
   "metadata": {
    "id": "634ea7d6",
    "outputId": "e6557728-5c32-4c92-f06c-46aa06c4f305"
   },
   "outputs": [],
   "source": [
    "import seaborn as sns\n",
    "\n",
    "pm_column = 'pm2.5'\n",
    "\n",
    "# Create a boxplot for all days\n",
    "plt.figure(figsize=(10, 6))\n",
    "sns.boxplot(x='day', y=pm_column, data=mdata)\n",
    "plt.title(f'Boxplot of {pm_column} across all days')\n",
    "plt.show()\n"
   ]
  },
  {
   "cell_type": "code",
   "execution_count": null,
   "id": "fe898258",
   "metadata": {
    "id": "fe898258",
    "outputId": "1aeb778f-91d6-431b-b256-34dcbabbe355"
   },
   "outputs": [],
   "source": [
    "\n",
    "\n",
    "weekday_data = mdata[mdata['day_name'].isin(['Monday', 'Tuesday', 'Wednesday', 'Thursday', 'Friday','Saturday','Sunday'])]\n",
    "\n",
    "pm_column = 'pm2.5'\n",
    "\n",
    "\n",
    "plt.figure(figsize=(10, 6))\n",
    "sns.boxplot(x='day_name', y=pm_column, data=weekday_data)\n",
    "plt.title(f'Boxplot of {pm_column} for Monday to Sunday')\n",
    "plt.show()\n"
   ]
  },
  {
   "cell_type": "code",
   "execution_count": null,
   "id": "16259d1f",
   "metadata": {
    "id": "16259d1f",
    "outputId": "7db4d72d-6650-43aa-c8da-ff1acc3832ff"
   },
   "outputs": [],
   "source": [
    "\n",
    "mdata_2023 = mdata[mdata['year'] == 2023]\n",
    "\n",
    "m = folium.Map(location=[mdata_2023['latitude'].mean(), mdata_2023['longitude'].mean()], zoom_start=10)\n",
    "\n",
    "\n",
    "heat_data = [[row['latitude'], row['longitude'], row['pm2.5']] for index, row in mdata_2023.iterrows()]\n",
    "\n",
    "\n",
    "HeatMap(heat_data).add_to(m)\n",
    "\n",
    "m\n"
   ]
  },
  {
   "cell_type": "code",
   "execution_count": null,
   "id": "e1915abd",
   "metadata": {
    "id": "e1915abd",
    "outputId": "f6767e4d-9c33-46e4-a305-9e00170d2406"
   },
   "outputs": [],
   "source": [
    "distinct_sensor_ids = mdata['sensor_id'].unique()\n",
    "print(distinct_sensor_ids)\n"
   ]
  },
  {
   "cell_type": "code",
   "execution_count": null,
   "id": "741e3186",
   "metadata": {
    "id": "741e3186"
   },
   "outputs": [],
   "source": [
    "count_id=len(distinct_sensor_ids)"
   ]
  },
  {
   "cell_type": "code",
   "execution_count": null,
   "id": "7f9e8ee6",
   "metadata": {
    "id": "7f9e8ee6",
    "outputId": "d981ccb2-b331-4e74-edbb-6178a15608ca"
   },
   "outputs": [],
   "source": [
    "count_id"
   ]
  },
  {
   "cell_type": "code",
   "execution_count": null,
   "id": "975b5f19",
   "metadata": {
    "id": "975b5f19"
   },
   "outputs": [],
   "source": [
    "tfdata=pd.read_csv(\"C:/Users/pranj/Downloads/scatsjanuary2023/SCATSJanuary2023.csv\")"
   ]
  },
  {
   "cell_type": "code",
   "execution_count": null,
   "id": "86d8c271",
   "metadata": {
    "id": "86d8c271",
    "outputId": "05ebc054-35bc-43b9-da3f-d673f73c8077"
   },
   "outputs": [],
   "source": [
    "tfdata"
   ]
  },
  {
   "cell_type": "code",
   "execution_count": null,
   "id": "623db98e",
   "metadata": {
    "id": "623db98e"
   },
   "outputs": [],
   "source": [
    "tfreg=tfdata['Region'].unique()"
   ]
  },
  {
   "cell_type": "code",
   "execution_count": null,
   "id": "cdb02037",
   "metadata": {
    "id": "cdb02037",
    "outputId": "ea58125d-7486-4d06-afd5-6dd0e03c83bc"
   },
   "outputs": [],
   "source": [
    "tfreg"
   ]
  },
  {
   "cell_type": "code",
   "execution_count": null,
   "id": "2fc97863",
   "metadata": {
    "id": "2fc97863",
    "outputId": "5ee933a1-2235-4603-88eb-2d1dc86cbb72"
   },
   "outputs": [],
   "source": [
    "tfdata.info()"
   ]
  },
  {
   "cell_type": "code",
   "execution_count": null,
   "id": "e9f4c235",
   "metadata": {
    "id": "e9f4c235"
   },
   "outputs": [],
   "source": [
    "tfdata=tfdata.iloc[:, :-1]"
   ]
  },
  {
   "cell_type": "code",
   "execution_count": null,
   "id": "21e17174",
   "metadata": {
    "id": "21e17174",
    "outputId": "ab887b67-e9e9-4a62-e370-23a6b9747ef2"
   },
   "outputs": [],
   "source": [
    "tfdata.head()"
   ]
  },
  {
   "cell_type": "code",
   "execution_count": null,
   "id": "1f0312e9",
   "metadata": {
    "id": "1f0312e9"
   },
   "outputs": [],
   "source": [
    "tfdate=tfdata[\"End_Time\"].unique()"
   ]
  },
  {
   "cell_type": "code",
   "execution_count": null,
   "id": "3fbab217",
   "metadata": {
    "id": "3fbab217"
   },
   "outputs": [],
   "source": [
    "tfdata['date_time'] = pd.to_datetime(tfdata['End_Time'], format='%Y%m%d%H%M%S')\n"
   ]
  },
  {
   "cell_type": "code",
   "execution_count": null,
   "id": "78dcc2f3",
   "metadata": {
    "id": "78dcc2f3",
    "outputId": "450afbee-c951-41e2-8620-b672467d5d1f"
   },
   "outputs": [],
   "source": [
    "tfdata.head()"
   ]
  },
  {
   "cell_type": "code",
   "execution_count": null,
   "id": "58f6b462",
   "metadata": {
    "id": "58f6b462",
    "outputId": "74cfd8b5-8e47-429a-a496-9dc1651b0d94"
   },
   "outputs": [],
   "source": [
    "tfdata['date_time'].unique()"
   ]
  },
  {
   "cell_type": "code",
   "execution_count": null,
   "id": "3200c84a",
   "metadata": {
    "id": "3200c84a"
   },
   "outputs": [],
   "source": [
    "df = pd.read_csv(\"C:/Users/pranj/Downloads/dcc_traffic_signals_20221130.csv\", sep=',')"
   ]
  },
  {
   "cell_type": "code",
   "execution_count": null,
   "id": "555f1795",
   "metadata": {
    "id": "555f1795",
    "outputId": "32dbf5e1-b811-4793-b7e1-a2b7aac8bc81"
   },
   "outputs": [],
   "source": [
    "df.info()"
   ]
  },
  {
   "cell_type": "code",
   "execution_count": null,
   "id": "0VPZ8jB9sJc2",
   "metadata": {
    "id": "0VPZ8jB9sJc2"
   },
   "outputs": [],
   "source": []
  },
  {
   "cell_type": "code",
   "execution_count": null,
   "id": "2beb6a1b",
   "metadata": {
    "id": "2beb6a1b",
    "outputId": "f1c3c2ed-1e63-450f-f5fd-52211d93b7c8",
    "scrolled": false
   },
   "outputs": [],
   "source": [
    "import folium\n",
    "\n",
    "\n",
    "map_center = [df['Lat'].mean(), df['Long'].mean()]\n",
    "mymap = folium.Map(location=map_center, zoom_start=5)\n",
    "\n",
    "\n",
    "for index, row in df.iterrows():\n",
    "    folium.Marker([row['Lat'], row['Long']], popup=row['Site_Description_Cap']).add_to(mymap)\n",
    "\n",
    "mymap\n"
   ]
  },
  {
   "cell_type": "code",
   "execution_count": null,
   "id": "ac234935",
   "metadata": {
    "id": "ac234935"
   },
   "outputs": [],
   "source": [
    "sdata=pd.read_csv(\"C:/Users/pranj/Downloads/Practicum dataset/scatsfebruary2023/SCATSFebruary2023.csv\")"
   ]
  },
  {
   "cell_type": "code",
   "execution_count": null,
   "id": "5dd5120a",
   "metadata": {
    "id": "5dd5120a",
    "outputId": "e8f7c52b-a902-455b-c666-15b255b8e35d"
   },
   "outputs": [],
   "source": [
    "sdata.info()"
   ]
  },
  {
   "cell_type": "code",
   "execution_count": null,
   "id": "da2ba963",
   "metadata": {
    "id": "da2ba963"
   },
   "outputs": [],
   "source": [
    "sdata['date_time'] = pd.to_datetime(sdata['End_Time'], format='%Y%m%d%H%M%S')"
   ]
  },
  {
   "cell_type": "code",
   "execution_count": null,
   "id": "4f71f15c",
   "metadata": {
    "id": "4f71f15c",
    "outputId": "f45a0584-1c86-4efb-a88e-ab39846e8427"
   },
   "outputs": [],
   "source": [
    "sdata.head(5)"
   ]
  },
  {
   "cell_type": "code",
   "execution_count": null,
   "id": "0089c648",
   "metadata": {
    "id": "0089c648",
    "outputId": "4bd117de-eb36-4a86-9bbc-cdce306f8a64"
   },
   "outputs": [],
   "source": [
    "sorted(sdata['date_time'].unique())"
   ]
  },
  {
   "cell_type": "code",
   "execution_count": null,
   "id": "9679774a",
   "metadata": {
    "id": "9679774a",
    "outputId": "87080871-ca9d-462b-997a-d5d91de3dd8f"
   },
   "outputs": [],
   "source": [
    "\n",
    "large_busy_junction = 796\n",
    "small_less_busy_junction = 782\n",
    "\n",
    "\n",
    "large_busy_junction_data = sdata[sdata['Site'] == large_busy_junction]\n",
    "small_less_busy_junction_data = sdata[sdata['Site'] == small_less_busy_junction]\n",
    "\n",
    "large_busy_trend = large_busy_junction_data.set_index('date_time').resample('H')['Sum_Volume'].mean()\n",
    "small_less_busy_trend = small_less_busy_junction_data.set_index('date_time').resample('H')['Sum_Volume'].mean()\n",
    "\n",
    "\n",
    "plt.figure(figsize=(12, 6))\n",
    "plt.plot(large_busy_trend.index, large_busy_trend.values, label='Large Busy Junction')\n",
    "plt.plot(small_less_busy_trend.index, small_less_busy_trend.values, label='Small Less Busy Junction')\n",
    "plt.xlabel('Date Time')\n",
    "plt.ylabel('Average Traffic Volume')\n",
    "plt.title('Hourly Traffic Volume Trends')\n",
    "plt.legend()\n",
    "plt.show()"
   ]
  },
  {
   "cell_type": "code",
   "execution_count": null,
   "id": "5be16924",
   "metadata": {
    "id": "5be16924"
   },
   "outputs": [],
   "source": [
    "\n",
    "large_busy_junction = 761\n",
    "small_less_busy_junction = 782"
   ]
  },
  {
   "cell_type": "code",
   "execution_count": null,
   "id": "ff32bfbb",
   "metadata": {
    "id": "ff32bfbb",
    "outputId": "8f150553-0c55-41dc-e29c-ad19323253e1"
   },
   "outputs": [],
   "source": [
    "\n",
    "large_busy_junction_data = sdata[(sdata['Site'] == large_busy_junction) & (sdata['date_time'].dt.date == pd.Timestamp('2023-02-01').date())]\n",
    "small_less_busy_junction_data = sdata[(sdata['Site'] == small_less_busy_junction) & (sdata['date_time'].dt.date == pd.Timestamp('2023-02-01').date())]\n",
    "\n",
    "large_busy_trend = large_busy_junction_data.set_index('date_time').resample('H')['Sum_Volume'].mean()\n",
    "small_less_busy_trend = small_less_busy_junction_data.set_index('date_time').resample('H')['Sum_Volume'].mean()\n",
    "\n",
    "\n",
    "plt.figure(figsize=(12, 6))\n",
    "plt.plot(large_busy_trend.index, large_busy_trend.values, label='Large Busy Junction')\n",
    "plt.plot(small_less_busy_trend.index, small_less_busy_trend.values, label='Small Less Busy Junction')\n",
    "plt.xlabel('Date Time')\n",
    "plt.ylabel('Average Traffic Volume')\n",
    "plt.title('Hourly Traffic Volume Trends for February 1, 2023')\n",
    "plt.legend()\n",
    "plt.show()"
   ]
  },
  {
   "cell_type": "code",
   "execution_count": null,
   "id": "dc94b6b3",
   "metadata": {
    "id": "dc94b6b3",
    "outputId": "e0f04163-cd6f-4a3f-98a8-7bf89d9a1f1b"
   },
   "outputs": [],
   "source": [
    "\n",
    "large_busy_junction_data = sdata[(sdata['Site'] == large_busy_junction) & (sdata['date_time'].dt.date == pd.Timestamp('2023-02-01').date())]\n",
    "small_less_busy_junction_data = sdata[(sdata['Site'] == small_less_busy_junction) & (sdata['date_time'].dt.date == pd.Timestamp('2023-02-01').date())]\n",
    "\n",
    "large_busy_trend = large_busy_junction_data.set_index('date_time').resample('H')['Avg_Volume'].mean()\n",
    "small_less_busy_trend = small_less_busy_junction_data.set_index('date_time').resample('H')['Avg_Volume'].mean()\n",
    "\n",
    "plt.figure(figsize=(12, 6))\n",
    "plt.plot(large_busy_trend.index, large_busy_trend.values, label='Large Busy Junction')\n",
    "plt.plot(small_less_busy_trend.index, small_less_busy_trend.values, label='Small Less Busy Junction')\n",
    "plt.xlabel('Date Time')\n",
    "plt.ylabel('Average Traffic Volume')\n",
    "plt.title('Hourly Traffic Volume Trends for February 1, 2023')\n",
    "plt.legend()\n",
    "plt.show()"
   ]
  },
  {
   "cell_type": "code",
   "execution_count": null,
   "id": "229f4cd6",
   "metadata": {
    "id": "229f4cd6",
    "outputId": "4d7acd12-c324-4e30-8fa8-d97b93cb8c4d"
   },
   "outputs": [],
   "source": [
    "pip install osmnx geopandas shapely"
   ]
  },
  {
   "cell_type": "code",
   "execution_count": null,
   "id": "hl7jBjHvVquA",
   "metadata": {
    "colab": {
     "base_uri": "https://localhost:8080/"
    },
    "id": "hl7jBjHvVquA",
    "outputId": "eeb18384-d85d-4faf-ce57-cad8f83dcebf"
   },
   "outputs": [],
   "source": [
    "!pip install osmnx\n"
   ]
  },
  {
   "cell_type": "code",
   "execution_count": null,
   "id": "63488d11",
   "metadata": {
    "colab": {
     "base_uri": "https://localhost:8080/"
    },
    "id": "63488d11",
    "outputId": "756e4474-c5cb-4766-f48e-fafc289e70ea"
   },
   "outputs": [],
   "source": [
    "import osmnx as ox\n",
    "import geopandas as gpd\n",
    "import pandas as pd\n",
    "from shapely.geometry import Point\n",
    "\n",
    "\n",
    "try:\n",
    "    county_dublin = ox.geocode_to_gdf(\"County Dublin, Ireland\", which_result=1)\n",
    "except ox.InsufficientResponseError as e:\n",
    "    print(\"Error: \", e)\n",
    "    county_dublin = ox.geocode_to_gdf(\"Dublin, Ireland\", which_result=1)\n",
    "\n",
    "print(county_dublin)"
   ]
  },
  {
   "cell_type": "code",
   "execution_count": null,
   "id": "1710e8f5",
   "metadata": {
    "id": "1710e8f5"
   },
   "outputs": [],
   "source": []
  },
  {
   "cell_type": "code",
   "execution_count": null,
   "id": "3fc3e3d5",
   "metadata": {
    "id": "3fc3e3d5"
   },
   "outputs": [],
   "source": [
    "\n",
    "mdata['geometry'] = mdata.apply(lambda row: Point(row['longitude'], row['latitude']), axis=1)\n",
    "gdf_data = gpd.GeoDataFrame(mdata, geometry='geometry')\n",
    "\n",
    "\n",
    "gdf_data.set_crs(county_dublin.crs, inplace=True)\n",
    "\n",
    "\n",
    "boundary_polygon = county_dublin.iloc[0].geometry\n",
    "points_within_boundary = gdf_data[gdf_data.within(boundary_polygon)]\n"
   ]
  },
  {
   "cell_type": "code",
   "execution_count": null,
   "id": "c9a0fe4a",
   "metadata": {
    "id": "c9a0fe4a"
   },
   "outputs": [],
   "source": [
    "output_path = '/content/drive/My Drive/Practicum/filtered_data.csv'\n",
    "points_within_boundary.to_csv(output_path, index=False)\n",
    "print(f\"Filtered data saved to {output_path}\")"
   ]
  },
  {
   "cell_type": "code",
   "execution_count": null,
   "id": "dSRIxduaqf_x",
   "metadata": {
    "id": "dSRIxduaqf_x"
   },
   "outputs": [],
   "source": [
    "\n",
    "\n",
    "sortdata = mdata.sort_values(by='date_time')\n"
   ]
  },
  {
   "cell_type": "code",
   "execution_count": null,
   "id": "TCEmAx05d9MQ",
   "metadata": {
    "id": "TCEmAx05d9MQ"
   },
   "outputs": [],
   "source": []
  },
  {
   "cell_type": "code",
   "execution_count": null,
   "id": "U5C-Xpj-VD_B",
   "metadata": {
    "colab": {
     "base_uri": "https://localhost:8080/",
     "height": 237
    },
    "id": "U5C-Xpj-VD_B",
    "outputId": "0857d654-9970-4359-c678-450866534f5d"
   },
   "outputs": [],
   "source": [
    "mdata.head()"
   ]
  },
  {
   "cell_type": "code",
   "execution_count": null,
   "id": "_T7FmKgSaUSZ",
   "metadata": {
    "colab": {
     "base_uri": "https://localhost:8080/"
    },
    "id": "_T7FmKgSaUSZ",
    "outputId": "84176c06-c3bf-4de5-acee-0cd414780e43"
   },
   "outputs": [],
   "source": [
    "mdata['date_time'] = pd.to_datetime(mdata.index)\n",
    "\n",
    "\n",
    "mdata['date'] = mdata.index.date\n",
    "\n",
    "print(mdata.head(5))"
   ]
  },
  {
   "cell_type": "code",
   "execution_count": null,
   "id": "lx9nHjzqNPHA",
   "metadata": {
    "id": "lx9nHjzqNPHA"
   },
   "outputs": [],
   "source": []
  },
  {
   "cell_type": "code",
   "execution_count": null,
   "id": "ahbOjxx_Nzon",
   "metadata": {
    "id": "ahbOjxx_Nzon"
   },
   "outputs": [],
   "source": [
    "#aggregation"
   ]
  },
  {
   "cell_type": "code",
   "execution_count": null,
   "id": "eE277btkCEQ9",
   "metadata": {
    "colab": {
     "base_uri": "https://localhost:8080/",
     "height": 237
    },
    "id": "eE277btkCEQ9",
    "outputId": "09fb9be4-0ee5-4aca-8f1c-7830724718d7"
   },
   "outputs": [],
   "source": [
    "mdata.head()"
   ]
  },
  {
   "cell_type": "code",
   "execution_count": null,
   "id": "bxzPUarMQY2o",
   "metadata": {
    "colab": {
     "base_uri": "https://localhost:8080/"
    },
    "id": "bxzPUarMQY2o",
    "outputId": "b899e8c0-e09e-40dc-907e-bc91abe3b499"
   },
   "outputs": [],
   "source": [
    "\n",
    "mdata['date_time'] = pd.to_datetime(mdata['time (UTC)'], format='%Y:%m:%d-%H:%M:%S')\n",
    "mdata.set_index('date_time', inplace=True)\n",
    "\n",
    "numeric_cols = ['pm1.0', 'pm2.5', 'pm10.0']\n",
    "\n",
    "aggregated_data = mdata.groupby([pd.Grouper(freq='H'), 'latitude', 'longitude','sensor_id'])[numeric_cols].mean()\n",
    "\n",
    "aggregated_data.reset_index(inplace=True)\n",
    "\n",
    "\n",
    "print(aggregated_data.head())\n"
   ]
  },
  {
   "cell_type": "code",
   "execution_count": null,
   "id": "04tOYvnTD6Sx",
   "metadata": {
    "colab": {
     "base_uri": "https://localhost:8080/"
    },
    "id": "04tOYvnTD6Sx",
    "outputId": "908b9a61-1456-49e3-d190-b5617a723ba9"
   },
   "outputs": [],
   "source": [
    "\n",
    "\n",
    "\n",
    "mdata['date_time'] = pd.to_datetime(mdata['time (UTC)'], format='%Y:%m:%d-%H:%M:%S')\n",
    "mdata.set_index('date_time', inplace=True)\n",
    "\n",
    "numeric_cols = ['pm1.0', 'pm2.5', 'pm10.0']\n",
    "\n",
    "aggregated_data = mdata.groupby([pd.Grouper(freq='H'), 'latitude', 'longitude', 'sensor_id'])[numeric_cols].mean()\n",
    "\n",
    "aggregated_data.reset_index(inplace=True)\n",
    "\n",
    "print(aggregated_data.head())\n",
    "print(aggregated_data.dtypes)\n",
    "\n",
    "\n",
    "aggregated_data['date_time'] = aggregated_data['date_time'].dt.strftime('%Y-%m-%d %H:%M:%S')\n",
    "\n",
    "\n",
    "print(aggregated_data.head())\n"
   ]
  },
  {
   "cell_type": "code",
   "execution_count": null,
   "id": "Aaspkw48EPu0",
   "metadata": {
    "id": "Aaspkw48EPu0"
   },
   "outputs": [],
   "source": []
  },
  {
   "cell_type": "code",
   "execution_count": null,
   "id": "cimvWz4rbok6",
   "metadata": {
    "id": "cimvWz4rbok6"
   },
   "outputs": [],
   "source": [
    "aggregated_data = aggregated_data.drop_duplicates()"
   ]
  },
  {
   "cell_type": "code",
   "execution_count": null,
   "id": "ZYpZQ07qdMzt",
   "metadata": {
    "colab": {
     "base_uri": "https://localhost:8080/"
    },
    "id": "ZYpZQ07qdMzt",
    "outputId": "fe693754-a6e9-44fd-cd51-a1d0032825c6"
   },
   "outputs": [],
   "source": [
    "aggregated_data.count()"
   ]
  },
  {
   "cell_type": "code",
   "execution_count": null,
   "id": "KngzX9n6eHQE",
   "metadata": {
    "colab": {
     "base_uri": "https://localhost:8080/"
    },
    "id": "KngzX9n6eHQE",
    "outputId": "54475fbb-7f3d-49e2-ca5c-68f2ae3f201e"
   },
   "outputs": [],
   "source": [
    "\n",
    "grid_size = 0.01\n",
    "\n",
    "aggregated_data['latitude_grid'] = (aggregated_data['latitude'] // grid_size) * grid_size\n",
    "aggregated_data['longitude_grid'] = (aggregated_data['longitude'] // grid_size) * grid_size\n",
    "\n",
    "grid_aggregated_data = aggregated_data.groupby(['date_time', 'latitude_grid', 'longitude_grid', 'sensor_id']).mean().reset_index()\n",
    "\n",
    "print(grid_aggregated_data.head())\n"
   ]
  },
  {
   "cell_type": "code",
   "execution_count": null,
   "id": "8kFGiBQn-z7A",
   "metadata": {
    "colab": {
     "base_uri": "https://localhost:8080/"
    },
    "id": "8kFGiBQn-z7A",
    "outputId": "9b18d0cc-b4c4-4612-a1d1-f2c80ee0a83d"
   },
   "outputs": [],
   "source": [
    "grid_aggregated_data.info()"
   ]
  },
  {
   "cell_type": "code",
   "execution_count": null,
   "id": "IeccCmahbo1W",
   "metadata": {
    "id": "IeccCmahbo1W"
   },
   "outputs": [],
   "source": [
    "import folium\n",
    "from folium.plugins import HeatMap\n",
    "\n"
   ]
  },
  {
   "cell_type": "code",
   "execution_count": null,
   "id": "yIOjvx6kbo7I",
   "metadata": {
    "colab": {
     "base_uri": "https://localhost:8080/",
     "height": 723
    },
    "id": "yIOjvx6kbo7I",
    "outputId": "4a578683-2e92-4963-e0b6-435ec0c1e943"
   },
   "outputs": [],
   "source": [
    "\n",
    "map_center = [grid_aggregated_data['latitude_grid'].mean(), grid_aggregated_data['longitude_grid'].mean()]\n",
    "m = folium.Map(location=map_center, zoom_start=10)\n",
    "\n",
    "\n",
    "heat_data = [\n",
    "    [row['latitude_grid'], row['longitude_grid'], row['pm2.5']] for index, row in grid_aggregated_data.iterrows()\n",
    "]\n",
    "\n",
    "\n",
    "HeatMap(heat_data).add_to(m)\n",
    "\n",
    "\n",
    "m"
   ]
  },
  {
   "cell_type": "code",
   "execution_count": null,
   "id": "F79lE8YYbpDF",
   "metadata": {
    "id": "F79lE8YYbpDF"
   },
   "outputs": [],
   "source": []
  },
  {
   "cell_type": "code",
   "execution_count": null,
   "id": "h4mgUX22Rl5N",
   "metadata": {
    "id": "h4mgUX22Rl5N"
   },
   "outputs": [],
   "source": []
  },
  {
   "cell_type": "code",
   "execution_count": null,
   "id": "GEKTHLeyNzyS",
   "metadata": {
    "colab": {
     "base_uri": "https://localhost:8080/",
     "height": 206
    },
    "id": "GEKTHLeyNzyS",
    "outputId": "55233f3b-d5b1-4ad3-9d1c-606066e321cf"
   },
   "outputs": [],
   "source": [
    "aggregated_data.head()"
   ]
  },
  {
   "cell_type": "code",
   "execution_count": null,
   "id": "LbomudZfNz1r",
   "metadata": {
    "colab": {
     "base_uri": "https://localhost:8080/"
    },
    "id": "LbomudZfNz1r",
    "outputId": "79db7669-1ee9-4c4f-a17a-54fef5e56c32"
   },
   "outputs": [],
   "source": [
    "aggregated_data.count()"
   ]
  },
  {
   "cell_type": "code",
   "execution_count": null,
   "id": "blQYKEGybwh7",
   "metadata": {
    "colab": {
     "base_uri": "https://localhost:8080/"
    },
    "id": "blQYKEGybwh7",
    "outputId": "b9585f2f-d65b-4571-d4b5-34e066bb18a8"
   },
   "outputs": [],
   "source": [
    "aggregated_data.info()"
   ]
  },
  {
   "cell_type": "code",
   "execution_count": null,
   "id": "pYAfRQChutKI",
   "metadata": {
    "colab": {
     "base_uri": "https://localhost:8080/",
     "height": 827
    },
    "id": "pYAfRQChutKI",
    "outputId": "aa0b657b-20c7-41fb-a914-7f5fda911ad8"
   },
   "outputs": [],
   "source": [
    "expanded_lat_min, expanded_lat_max = 53.25, 53.45\n",
    "expanded_lon_min, expanded_lon_max = -6.5, -6.1\n",
    "\n",
    "expanded_data = grid_aggregated_data[\n",
    "    (grid_aggregated_data['latitude_grid'] >= expanded_lat_min) &\n",
    "    (grid_aggregated_data['latitude_grid'] <= expanded_lat_max) &\n",
    "    (grid_aggregated_data['longitude_grid'] >= expanded_lon_min) &\n",
    "    (grid_aggregated_data['longitude_grid'] <= expanded_lon_max)\n",
    "]\n",
    "\n",
    "map_center = [expanded_data['latitude_grid'].mean(), expanded_data['longitude_grid'].mean()]\n",
    "m = folium.Map(location=map_center, zoom_start=11)\n",
    "\n",
    "\n",
    "expanded_data['combined_pm'] = (expanded_data['pm1.0'] + expanded_data['pm2.5'] + expanded_data['pm10.0']) / 3\n",
    "\n",
    "heat_data = [\n",
    "    [row['latitude_grid'], row['longitude_grid'], row['combined_pm']] for index, row in expanded_data.iterrows()\n",
    "]\n",
    "\n",
    "\n",
    "HeatMap(heat_data).add_to(m)\n",
    "\n",
    "\n",
    "m"
   ]
  },
  {
   "cell_type": "code",
   "execution_count": null,
   "id": "rb9JUpkEutP_",
   "metadata": {
    "colab": {
     "base_uri": "https://localhost:8080/"
    },
    "id": "rb9JUpkEutP_",
    "outputId": "61dc5a22-42c6-4b2d-d333-0da3f4c14870"
   },
   "outputs": [],
   "source": [
    "expanded_lat_min, expanded_lat_max = 53.25, 53.45\n",
    "expanded_lon_min, expanded_lon_max = -6.5, -6.05\n",
    "\n",
    "restricted_data = grid_aggregated_data[\n",
    "    (grid_aggregated_data['latitude_grid'] >= expanded_lat_min) &\n",
    "    (grid_aggregated_data['latitude_grid'] <= expanded_lat_max) &\n",
    "    (grid_aggregated_data['longitude_grid'] >= expanded_lon_min) &\n",
    "    (grid_aggregated_data['longitude_grid'] <= expanded_lon_max)\n",
    "]\n",
    "\n",
    "print(restricted_data.head())"
   ]
  },
  {
   "cell_type": "code",
   "execution_count": null,
   "id": "L0LnC-vnS4zn",
   "metadata": {
    "colab": {
     "base_uri": "https://localhost:8080/",
     "height": 206
    },
    "id": "L0LnC-vnS4zn",
    "outputId": "cc4b0f86-c8ef-4011-f1ae-272e9c95877d"
   },
   "outputs": [],
   "source": [
    "restricted_data.head()"
   ]
  },
  {
   "cell_type": "code",
   "execution_count": null,
   "id": "_gaUU7lV7dxm",
   "metadata": {
    "colab": {
     "base_uri": "https://localhost:8080/",
     "height": 237
    },
    "id": "_gaUU7lV7dxm",
    "outputId": "3e2654b2-071b-4f7f-a532-6d31e5a589b9"
   },
   "outputs": [],
   "source": [
    "mdata.head()"
   ]
  },
  {
   "cell_type": "code",
   "execution_count": null,
   "id": "-xTTpVup4DqM",
   "metadata": {
    "id": "-xTTpVup4DqM"
   },
   "outputs": [],
   "source": [
    "#weather"
   ]
  },
  {
   "cell_type": "code",
   "execution_count": null,
   "id": "c2TX3x7XDv42",
   "metadata": {
    "colab": {
     "base_uri": "https://localhost:8080/",
     "height": 235
    },
    "id": "c2TX3x7XDv42",
    "outputId": "50424705-bdb6-4e8b-ffab-c558057dc263"
   },
   "outputs": [],
   "source": [
    "wdata.head()"
   ]
  },
  {
   "cell_type": "code",
   "execution_count": null,
   "id": "62ONyiIOqgDJ",
   "metadata": {
    "id": "62ONyiIOqgDJ"
   },
   "outputs": [],
   "source": [
    "wdatadf=wdata[['date', 'rain', 'temp', 'wdsp']]"
   ]
  },
  {
   "cell_type": "code",
   "execution_count": null,
   "id": "i4gDrt-pJ3-j",
   "metadata": {
    "colab": {
     "base_uri": "https://localhost:8080/"
    },
    "id": "i4gDrt-pJ3-j",
    "outputId": "afde4e2f-34ab-412b-f028-4187872f2f9d"
   },
   "outputs": [],
   "source": [
    "wdatadf['date'] = pd.to_datetime(wdatadf['date'], format='%d-%m-%Y %H:%M')\n",
    "\n",
    "# the date range\n",
    "start_date = '2022-05-01 00:00'\n",
    "end_date = '2023-05-31 23:59'\n"
   ]
  },
  {
   "cell_type": "code",
   "execution_count": null,
   "id": "LjyILPaoJK2Z",
   "metadata": {
    "id": "LjyILPaoJK2Z"
   },
   "outputs": [],
   "source": []
  },
  {
   "cell_type": "code",
   "execution_count": null,
   "id": "CL6tyCktJg9X",
   "metadata": {
    "colab": {
     "base_uri": "https://localhost:8080/",
     "height": 206
    },
    "id": "CL6tyCktJg9X",
    "outputId": "96903b7e-8393-4474-ed4c-f9ba25bf442d"
   },
   "outputs": [],
   "source": [
    "wdatadf.head()"
   ]
  },
  {
   "cell_type": "code",
   "execution_count": null,
   "id": "wDAwji1mHZjZ",
   "metadata": {
    "id": "wDAwji1mHZjZ"
   },
   "outputs": [],
   "source": [
    "wdata_df = wdatadf[(wdatadf['date'] >= start_date) & (wdatadf['date'] <= end_date)]"
   ]
  },
  {
   "cell_type": "code",
   "execution_count": null,
   "id": "BrkxlATKqgZO",
   "metadata": {
    "colab": {
     "base_uri": "https://localhost:8080/",
     "height": 206
    },
    "id": "BrkxlATKqgZO",
    "outputId": "8cd1441e-0f5b-4f2f-ab68-4bcafaffcce1"
   },
   "outputs": [],
   "source": [
    "wdata_df.head()"
   ]
  },
  {
   "cell_type": "code",
   "execution_count": null,
   "id": "gmsUIIXwqgcD",
   "metadata": {
    "id": "gmsUIIXwqgcD"
   },
   "outputs": [],
   "source": [
    "min_date = wdata_df['date'].min()\n",
    "max_date = wdata_df['date'].max()"
   ]
  },
  {
   "cell_type": "code",
   "execution_count": null,
   "id": "C5Vb4SOZqgfd",
   "metadata": {
    "colab": {
     "base_uri": "https://localhost:8080/"
    },
    "id": "C5Vb4SOZqgfd",
    "outputId": "43084459-3562-4287-9886-a18801e10ce7"
   },
   "outputs": [],
   "source": [
    "min_date"
   ]
  },
  {
   "cell_type": "code",
   "execution_count": null,
   "id": "1a270478",
   "metadata": {
    "colab": {
     "base_uri": "https://localhost:8080/"
    },
    "id": "1a270478",
    "outputId": "0216c597-9ae1-4150-8d9a-16c6d18ecbc5"
   },
   "outputs": [],
   "source": [
    "max_date"
   ]
  },
  {
   "cell_type": "code",
   "execution_count": null,
   "id": "1a9767c6",
   "metadata": {
    "id": "1a9767c6"
   },
   "outputs": [],
   "source": []
  },
  {
   "cell_type": "code",
   "execution_count": null,
   "id": "wGQvdKd8QioN",
   "metadata": {
    "id": "wGQvdKd8QioN"
   },
   "outputs": [],
   "source": [
    "#Traffic"
   ]
  },
  {
   "cell_type": "code",
   "execution_count": null,
   "id": "vehfxsFmSsuX",
   "metadata": {
    "id": "vehfxsFmSsuX"
   },
   "outputs": [],
   "source": [
    "import pandas as pd"
   ]
  },
  {
   "cell_type": "code",
   "execution_count": null,
   "id": "2C5mYQIfQirm",
   "metadata": {
    "id": "2C5mYQIfQirm"
   },
   "outputs": [],
   "source": [
    "tfdata=pd.read_csv(\"/content/drive/My Drive/Practicum/filtered_traffic_df.csv\")"
   ]
  },
  {
   "cell_type": "code",
   "execution_count": null,
   "id": "3b5xVppZQiu2",
   "metadata": {
    "colab": {
     "base_uri": "https://localhost:8080/",
     "height": 206
    },
    "id": "3b5xVppZQiu2",
    "outputId": "330448a0-6513-4c76-c57d-3e41f7072eb3"
   },
   "outputs": [],
   "source": [
    "tfdata.head()"
   ]
  },
  {
   "cell_type": "code",
   "execution_count": null,
   "id": "j46QTc-9e01E",
   "metadata": {
    "colab": {
     "base_uri": "https://localhost:8080/",
     "height": 967
    },
    "id": "j46QTc-9e01E",
    "outputId": "cc31cd52-977f-4759-b861-d69d6164eca4"
   },
   "outputs": [],
   "source": [
    "import pandas as pd\n",
    "import folium\n",
    "\n",
    "sampled_tfdata = tfdata.sample(n=10000, random_state=1)\n",
    "\n",
    "m = folium.Map(location=[sampled_tfdata['Lat'].mean(), sampled_tfdata['Long'].mean()], zoom_start=14)\n",
    "\n",
    "\n",
    "for _, row in sampled_tfdata.iterrows():\n",
    "    folium.CircleMarker(\n",
    "        location=[row['Lat'], row['Long']],\n",
    "        radius=row['Avg_Volume'] / 2,  #  radius size based on Avg_Volume\n",
    "        popup=f\"Time: {row['End_Time']}<br>Avg Volume: {row['Avg_Volume']}\",\n",
    "        color='blue',\n",
    "        fill=True,\n",
    "        fill_color='blue',\n",
    "        fill_opacity=0.6\n",
    "    ).add_to(m)\n",
    "\n",
    "m\n",
    "\n"
   ]
  },
  {
   "cell_type": "code",
   "execution_count": null,
   "id": "7yj3GYGAcF-T",
   "metadata": {
    "id": "7yj3GYGAcF-T"
   },
   "outputs": [],
   "source": []
  },
  {
   "cell_type": "code",
   "execution_count": null,
   "id": "7BdxvNUmQi1K",
   "metadata": {
    "colab": {
     "base_uri": "https://localhost:8080/"
    },
    "id": "7BdxvNUmQi1K",
    "outputId": "a1723447-587e-4ce4-869d-6c0e1311ce23"
   },
   "outputs": [],
   "source": [
    "\n",
    "grid_size = 0.01\n",
    "\n",
    "\n",
    "tfdata['latitude_grid'] = (tfdata['Lat'] // grid_size) * grid_size\n",
    "tfdata['longitude_grid'] = (tfdata['Long'] // grid_size) * grid_size\n",
    "\n",
    "grid_aggregated_tfdata = tfdata.groupby(['End_Time', 'latitude_grid', 'longitude_grid', 'Site']).mean().reset_index()\n",
    "\n",
    "\n",
    "print(grid_aggregated_tfdata.head())"
   ]
  },
  {
   "cell_type": "code",
   "execution_count": null,
   "id": "u6qT0iExay3e",
   "metadata": {
    "colab": {
     "base_uri": "https://localhost:8080/",
     "height": 806
    },
    "id": "u6qT0iExay3e",
    "outputId": "4ce0445d-de26-450b-c597-a67f9be3f5d7"
   },
   "outputs": [],
   "source": [
    "grid_aggregated_tfdata.head(5)"
   ]
  },
  {
   "cell_type": "code",
   "execution_count": null,
   "id": "dTSByzvybMBH",
   "metadata": {
    "id": "dTSByzvybMBH"
   },
   "outputs": [],
   "source": []
  },
  {
   "cell_type": "code",
   "execution_count": null,
   "id": "_Ki0DuXVbMEt",
   "metadata": {
    "id": "_Ki0DuXVbMEt"
   },
   "outputs": [],
   "source": []
  },
  {
   "cell_type": "code",
   "execution_count": null,
   "id": "0ta2oUaZaOQh",
   "metadata": {
    "id": "0ta2oUaZaOQh"
   },
   "outputs": [],
   "source": []
  },
  {
   "cell_type": "code",
   "execution_count": null,
   "id": "O_bb5TjbaOUU",
   "metadata": {
    "id": "O_bb5TjbaOUU"
   },
   "outputs": [],
   "source": []
  },
  {
   "cell_type": "code",
   "execution_count": null,
   "id": "BYVCq3TuaOYV",
   "metadata": {
    "id": "BYVCq3TuaOYV"
   },
   "outputs": [],
   "source": []
  },
  {
   "cell_type": "code",
   "execution_count": null,
   "id": "IocdwPEtcLWs",
   "metadata": {
    "colab": {
     "base_uri": "https://localhost:8080/"
    },
    "id": "IocdwPEtcLWs",
    "outputId": "dccb2135-681a-42c2-ac73-2c9d4f5edc9d"
   },
   "outputs": [],
   "source": [
    "merged_tfdpddata = pd.merge(\n",
    "    restricted_data,\n",
    "    grid_aggregated_tfdata,\n",
    "    left_on=['date_time', 'latitude_grid', 'longitude_grid'],\n",
    "    right_on=['End_Time', 'latitude_grid', 'longitude_grid']\n",
    ")\n",
    "\n",
    "print(merged_tfdpddata.head())"
   ]
  },
  {
   "cell_type": "code",
   "execution_count": null,
   "id": "ctBX6OJIcLbj",
   "metadata": {
    "colab": {
     "base_uri": "https://localhost:8080/"
    },
    "id": "ctBX6OJIcLbj",
    "outputId": "a818a81b-33bc-4aea-a865-d5f51d6e2b2a"
   },
   "outputs": [],
   "source": [
    "\n",
    "merged_tfdpddata['date_time'] = pd.to_datetime(merged_tfdpddata['date_time'])\n",
    "\n",
    "\n",
    "wdata_df['date'] = pd.to_datetime(wdata_df['date'])\n",
    "\n",
    "final_merged_data = pd.merge(\n",
    "    merged_tfdpddata,\n",
    "    wdata_df,\n",
    "    left_on='date_time',\n",
    "    right_on='date'\n",
    ")\n",
    "\n",
    "print(final_merged_data.head())"
   ]
  },
  {
   "cell_type": "code",
   "execution_count": null,
   "id": "7026db5a",
   "metadata": {
    "colab": {
     "base_uri": "https://localhost:8080/"
    },
    "id": "7026db5a",
    "outputId": "40dee208-a067-46de-d2ae-25fdc974a4b9"
   },
   "outputs": [],
   "source": [
    "\n",
    "null_counts = final_merged_data.isnull().sum()\n",
    "\n",
    "print(null_counts)\n"
   ]
  },
  {
   "cell_type": "code",
   "execution_count": null,
   "id": "bf1f8e61",
   "metadata": {
    "colab": {
     "base_uri": "https://localhost:8080/"
    },
    "id": "bf1f8e61",
    "outputId": "f7142632-7d2b-441c-86c5-eb1aa49caf96"
   },
   "outputs": [],
   "source": [
    "\n",
    "def count_blank_values(df):\n",
    "\n",
    "    blank_counts = df.apply(lambda x: x.astype(str).apply(lambda y: y.strip() == '').sum())\n",
    "    return blank_counts\n",
    "\n",
    "\n",
    "blank_counts = count_blank_values(final_merged_data)\n",
    "\n",
    "print(blank_counts)"
   ]
  },
  {
   "cell_type": "code",
   "execution_count": null,
   "id": "NqRzq40Vo9UW",
   "metadata": {
    "colab": {
     "base_uri": "https://localhost:8080/",
     "height": 293
    },
    "id": "NqRzq40Vo9UW",
    "outputId": "5b82fa41-bcad-45ab-ae21-2241b2eb67d9"
   },
   "outputs": [],
   "source": [
    "final_merged_data.head()"
   ]
  },
  {
   "cell_type": "code",
   "execution_count": null,
   "id": "YIn9oxQgo9Xl",
   "metadata": {
    "colab": {
     "base_uri": "https://localhost:8080/",
     "height": 533
    },
    "id": "YIn9oxQgo9Xl",
    "outputId": "8d804f8d-4a5e-442e-b535-5f0019491018"
   },
   "outputs": [],
   "source": [
    "final_merged_null = pd.DataFrame(final_merged_data.isnull().sum())\n",
    "import matplotlib.pyplot as plt\n",
    "import seaborn as sns\n",
    "\n",
    "final_merged_null.plot(kind= 'bar')\n"
   ]
  },
  {
   "cell_type": "code",
   "execution_count": null,
   "id": "uEb8Q8JTo9aU",
   "metadata": {
    "colab": {
     "base_uri": "https://localhost:8080/",
     "height": 53
    },
    "id": "uEb8Q8JTo9aU",
    "outputId": "247800ed-bb3e-400d-d4fb-581080684421"
   },
   "outputs": [],
   "source": [
    "final_merged_data[final_merged_data.duplicated()]"
   ]
  },
  {
   "cell_type": "code",
   "execution_count": null,
   "id": "ESQyuocuo9c5",
   "metadata": {
    "colab": {
     "base_uri": "https://localhost:8080/"
    },
    "id": "ESQyuocuo9c5",
    "outputId": "47a38613-7a99-4ca0-d095-be81bd2ca656"
   },
   "outputs": [],
   "source": [
    "final_merged_data.duplicated()"
   ]
  },
  {
   "cell_type": "code",
   "execution_count": null,
   "id": "s39j9JQMJfEK",
   "metadata": {
    "id": "s39j9JQMJfEK"
   },
   "outputs": [],
   "source": [
    "import matplotlib.pyplot as plt\n",
    "import seaborn as sns"
   ]
  },
  {
   "cell_type": "code",
   "execution_count": null,
   "id": "VHsjoWTQo9gL",
   "metadata": {
    "colab": {
     "base_uri": "https://localhost:8080/",
     "height": 605
    },
    "id": "VHsjoWTQo9gL",
    "outputId": "ccc077fd-80a7-4967-bf0f-abe96920e6a1"
   },
   "outputs": [],
   "source": [
    "plt.figure(figsize  = (15,7))\n",
    "sns.heatmap(df[['AQI','pm1.0', 'pm2.5', 'pm10.0', 'Avg_Volume','rain','temp','wdsp']].corr() , annot = True)\n",
    "plt.show()\n",
    "\n"
   ]
  },
  {
   "cell_type": "code",
   "execution_count": null,
   "id": "1lfp9R2ysApL",
   "metadata": {
    "colab": {
     "base_uri": "https://localhost:8080/",
     "height": 429
    },
    "id": "1lfp9R2ysApL",
    "outputId": "857cd42f-46e6-4d33-873f-903eb18b9435"
   },
   "outputs": [],
   "source": [
    "final_merged_data.head()"
   ]
  },
  {
   "cell_type": "code",
   "execution_count": null,
   "id": "uflWaByIulms",
   "metadata": {
    "colab": {
     "base_uri": "https://localhost:8080/"
    },
    "id": "uflWaByIulms",
    "outputId": "b45f2796-661e-45b2-b342-c913ec6c3f60"
   },
   "outputs": [],
   "source": [
    "final_merged_data.columns"
   ]
  },
  {
   "cell_type": "code",
   "execution_count": null,
   "id": "cGHUsUtPsAs1",
   "metadata": {
    "id": "cGHUsUtPsAs1"
   },
   "outputs": [],
   "source": [
    "df = final_merged_data[['date_time'\t, 'latitude_grid','longitude_grid', 'Avg_Volume', 'rain', 'temp', 'wdsp' , 'AQI']]"
   ]
  },
  {
   "cell_type": "code",
   "execution_count": null,
   "id": "b-Hamnmqth8H",
   "metadata": {
    "colab": {
     "base_uri": "https://localhost:8080/",
     "height": 449
    },
    "id": "b-Hamnmqth8H",
    "outputId": "8a5ed307-5c9d-41a8-e07d-3dbf4f1711f2"
   },
   "outputs": [],
   "source": [
    "sns.histplot(x = df['AQI'])\n",
    "plt.show()"
   ]
  },
  {
   "cell_type": "code",
   "execution_count": null,
   "id": "fcgKhiz3vSr6",
   "metadata": {
    "colab": {
     "base_uri": "https://localhost:8080/"
    },
    "id": "fcgKhiz3vSr6",
    "outputId": "3091746a-5635-451a-8ef2-ae74229a820b"
   },
   "outputs": [],
   "source": [
    "df['AQI'].max() , df['AQI'].min() , df['AQI'].mean()"
   ]
  },
  {
   "cell_type": "code",
   "execution_count": null,
   "id": "dypdSnEatiCZ",
   "metadata": {
    "id": "dypdSnEatiCZ"
   },
   "outputs": [],
   "source": [
    "df['AQI'] = [x for x in df['target_feature'] if x < 50]"
   ]
  },
  {
   "cell_type": "code",
   "execution_count": null,
   "id": "V5p7oQzDK_TZ",
   "metadata": {
    "id": "V5p7oQzDK_TZ"
   },
   "outputs": [],
   "source": [
    "count_aqi_above_100 = (df['AQI'] > 300).sum()\n"
   ]
  },
  {
   "cell_type": "code",
   "execution_count": null,
   "id": "v_uzrRoyLDOt",
   "metadata": {
    "colab": {
     "base_uri": "https://localhost:8080/"
    },
    "id": "v_uzrRoyLDOt",
    "outputId": "ef53dfd8-f41f-4cb0-f8cc-af4c76a25bc1"
   },
   "outputs": [],
   "source": [
    "count_aqi_above_100"
   ]
  },
  {
   "cell_type": "code",
   "execution_count": null,
   "id": "6OacZhv0tiHq",
   "metadata": {
    "colab": {
     "base_uri": "https://localhost:8080/"
    },
    "id": "6OacZhv0tiHq",
    "outputId": "97318f29-cacb-450e-9fc7-b19a14d2db7a"
   },
   "outputs": [],
   "source": [
    "def calculate_aqi(concentration, breakpoints):\n",
    "    for (low, high, aqi_low, aqi_high) in breakpoints:\n",
    "        if low <= concentration <= high:\n",
    "            return (concentration - low) / (high - low) * (aqi_high - aqi_low) + aqi_low\n",
    "    return None  # Outside the range\n",
    "\n",
    "pm2_5_breakpoints = [\n",
    "    (0, 25, 0, 50),\n",
    "    (25.1, 50, 51, 100),\n",
    "    (50.1, 75, 101, 150),\n",
    "    (75.1, 100, 151, 200),\n",
    "    (100.1, 150, 201, 300),\n",
    "    (150.1, float('inf'), 301, 500)\n",
    "]\n",
    "\n",
    "\n",
    "pm10_breakpoints = [\n",
    "    (0, 30, 0, 50),\n",
    "    (30.1, 50, 51, 100),\n",
    "    (50.1, 75, 101, 150),\n",
    "    (75.1, 100, 151, 200),\n",
    "    (100.1, 150, 201, 300),\n",
    "    (150.1, float('inf'), 301, 500)\n",
    "]\n",
    "\n",
    "\n",
    "pm1_0_breakpoints = [\n",
    "    (0, 25, 0, 50),\n",
    "    (25.1, 50, 51, 100),\n",
    "    (50.1, 75, 101, 150),\n",
    "    (75.1, 100, 151, 200),\n",
    "    (100.1, 150, 201, 300),\n",
    "    (150.1, float('inf'), 301, 500)\n",
    "]\n",
    "\n",
    "\n",
    "final_merged_data['pm1.0_aqi'] = final_merged_data['pm1.0'].apply(lambda x: calculate_aqi(x, pm1_0_breakpoints))\n",
    "final_merged_data['pm2.5_aqi'] = final_merged_data['pm2.5'].apply(lambda x: calculate_aqi(x, pm2_5_breakpoints))\n",
    "final_merged_data['pm10.0_aqi'] = final_merged_data['pm10.0'].apply(lambda x: calculate_aqi(x, pm10_breakpoints))\n",
    "\n",
    "final_merged_data['AQI'] = final_merged_data[['pm1.0_aqi', 'pm2.5_aqi', 'pm10.0_aqi']].max(axis=1)\n",
    "\n",
    "print(final_merged_data)"
   ]
  },
  {
   "cell_type": "code",
   "execution_count": null,
   "id": "B4mCBidJD-x4",
   "metadata": {
    "id": "B4mCBidJD-x4"
   },
   "outputs": [],
   "source": [
    "\n",
    "final_merged_data.to_csv('final_merged_data.csv', index=False)\n"
   ]
  },
  {
   "cell_type": "code",
   "execution_count": null,
   "id": "GqA3PNNyV01m",
   "metadata": {
    "id": "GqA3PNNyV01m"
   },
   "outputs": [],
   "source": [
    "final_merged_data=final_merged_data.drop(columns=['target_feature'])"
   ]
  },
  {
   "cell_type": "code",
   "execution_count": null,
   "id": "5ivfFFA-V04r",
   "metadata": {
    "colab": {
     "base_uri": "https://localhost:8080/"
    },
    "id": "5ivfFFA-V04r",
    "outputId": "0da19dab-bf13-476c-dc0f-7351cb84f0bd"
   },
   "outputs": [],
   "source": [
    "final_merged_data.info()"
   ]
  },
  {
   "cell_type": "code",
   "execution_count": null,
   "id": "kI_0wRmP6Dr8",
   "metadata": {
    "id": "kI_0wRmP6Dr8"
   },
   "outputs": [],
   "source": [
    "#weather"
   ]
  },
  {
   "cell_type": "code",
   "execution_count": null,
   "id": "p9DxntL_QpH5",
   "metadata": {
    "colab": {
     "base_uri": "https://localhost:8080/",
     "height": 421
    },
    "id": "p9DxntL_QpH5",
    "outputId": "3e54550f-b56e-4c15-9222-82a89316bb1c"
   },
   "outputs": [],
   "source": [
    "fig, axs = plt.subplots(1, 3, figsize=(18, 5), sharex=True)\n",
    "\n",
    "\n",
    "axs[0].plot(df['date_time'], df['rain'], marker='o', linestyle='-', color='blue')\n",
    "axs[0].set_title('Rain Over Time')\n",
    "axs[0].set_ylabel('Rain (mm)')\n",
    "axs[0].set_xlabel('Date Time')\n",
    "\n",
    "\n",
    "axs[1].plot(df['date_time'], df['wdsp'], marker='o', linestyle='-', color='orange')\n",
    "axs[1].set_title('Windspeed Over Time')\n",
    "axs[1].set_ylabel('Windspeed (m/s)')\n",
    "axs[1].set_xlabel('Date Time')\n",
    "\n",
    "\n",
    "axs[2].plot(df['date_time'], df['temp'], marker='o', linestyle='-', color='red')\n",
    "axs[2].set_title('Temperature Over Time')\n",
    "axs[2].set_ylabel('Temperature (°C)')\n",
    "axs[2].set_xlabel('Date Time')\n",
    "\n",
    "\n",
    "for ax in axs:\n",
    "    ax.xaxis.set_major_locator(mdates.MonthLocator())  # Set locator to every month\n",
    "    ax.xaxis.set_major_formatter(mdates.DateFormatter('%b'))  # Format to show only month names\n",
    "    ax.tick_params(axis='x', rotation=45)\n",
    "\n",
    "plt.tight_layout()\n",
    "plt.show()"
   ]
  },
  {
   "cell_type": "code",
   "execution_count": null,
   "id": "q03rWGcvzb5h",
   "metadata": {
    "id": "q03rWGcvzb5h"
   },
   "outputs": [],
   "source": []
  },
  {
   "cell_type": "code",
   "execution_count": null,
   "id": "815Y-GoWzd28",
   "metadata": {
    "id": "815Y-GoWzd28"
   },
   "outputs": [],
   "source": []
  },
  {
   "cell_type": "code",
   "execution_count": null,
   "id": "U6qgRuSPzd7Q",
   "metadata": {
    "id": "U6qgRuSPzd7Q"
   },
   "outputs": [],
   "source": []
  },
  {
   "cell_type": "code",
   "execution_count": null,
   "id": "KXtOZC9pyRJN",
   "metadata": {
    "id": "KXtOZC9pyRJN"
   },
   "outputs": [],
   "source": []
  },
  {
   "cell_type": "code",
   "execution_count": null,
   "id": "eQhhZjOmV3ZG",
   "metadata": {
    "colab": {
     "base_uri": "https://localhost:8080/"
    },
    "id": "eQhhZjOmV3ZG",
    "outputId": "3b93652f-8c9f-4e94-f174-9ea0d1a4a7a3"
   },
   "outputs": [],
   "source": [
    "pip install geopandas shapely matplotlib contextily\n"
   ]
  },
  {
   "cell_type": "code",
   "execution_count": null,
   "id": "ROEqBDF_V3-_",
   "metadata": {
    "id": "ROEqBDF_V3-_"
   },
   "outputs": [],
   "source": []
  },
  {
   "cell_type": "code",
   "execution_count": null,
   "id": "O-GtAPkKFxq8",
   "metadata": {
    "colab": {
     "base_uri": "https://localhost:8080/"
    },
    "id": "O-GtAPkKFxq8",
    "outputId": "cbf28796-ab45-4c5a-e4b3-8a423692ca2f"
   },
   "outputs": [],
   "source": [
    "from google.colab import drive\n",
    "drive.mount('/content/drive')"
   ]
  },
  {
   "cell_type": "code",
   "execution_count": null,
   "id": "t1DDPW1UFxvR",
   "metadata": {
    "id": "t1DDPW1UFxvR"
   },
   "outputs": [],
   "source": [
    "finaldf=pd.read_csv(\"/content/drive/My Drive/Practicum/final_data.csv\")\n"
   ]
  },
  {
   "cell_type": "code",
   "execution_count": null,
   "id": "cVlFfhVUcKWN",
   "metadata": {
    "colab": {
     "base_uri": "https://localhost:8080/",
     "height": 429
    },
    "id": "cVlFfhVUcKWN",
    "outputId": "fb42e810-1487-497e-e00e-5fdc7bd78fa0"
   },
   "outputs": [],
   "source": [
    "finaldf.head(5)"
   ]
  },
  {
   "cell_type": "code",
   "execution_count": null,
   "id": "fj1znefKcKxu",
   "metadata": {
    "id": "fj1znefKcKxu"
   },
   "outputs": [],
   "source": [
    "df=finaldf.copy()"
   ]
  },
  {
   "cell_type": "code",
   "execution_count": null,
   "id": "Rp0F-2dJcK1I",
   "metadata": {
    "colab": {
     "base_uri": "https://localhost:8080/"
    },
    "id": "Rp0F-2dJcK1I",
    "outputId": "f869266e-f24a-4c8a-bbdc-325b130712d8"
   },
   "outputs": [],
   "source": [
    "import statsmodels.api as sm\n",
    "X = df[['rain', 'temp', 'wdsp', 'latitude', 'longitude','Avg_Volume']]\n",
    "y = df['AQI']\n",
    "\n",
    "\n",
    "X = sm.add_constant(X)\n",
    "\n",
    "\n",
    "model = sm.OLS(y, X).fit()\n",
    "\n",
    "print(model.summary())"
   ]
  },
  {
   "cell_type": "code",
   "execution_count": null,
   "id": "yUZbZzOtL_VN",
   "metadata": {
    "id": "yUZbZzOtL_VN"
   },
   "outputs": [],
   "source": []
  },
  {
   "cell_type": "code",
   "execution_count": null,
   "id": "IsGsjoCKL845",
   "metadata": {
    "colab": {
     "base_uri": "https://localhost:8080/",
     "height": 165
    },
    "id": "IsGsjoCKL845",
    "outputId": "4713fabb-0291-49b5-c9d0-a9d9e37a60c6"
   },
   "outputs": [],
   "source": [
    "df.head(1)"
   ]
  },
  {
   "cell_type": "code",
   "execution_count": null,
   "id": "UYI1RgjWcK4M",
   "metadata": {
    "id": "UYI1RgjWcK4M"
   },
   "outputs": [],
   "source": []
  },
  {
   "cell_type": "code",
   "execution_count": null,
   "id": "mf6RdPTQRKiO",
   "metadata": {
    "id": "mf6RdPTQRKiO"
   },
   "outputs": [],
   "source": []
  },
  {
   "cell_type": "code",
   "execution_count": null,
   "id": "eFEJwXUQFx0N",
   "metadata": {
    "colab": {
     "base_uri": "https://localhost:8080/",
     "height": 429
    },
    "id": "eFEJwXUQFx0N",
    "outputId": "48e3ac42-2d3e-4fd5-ad25-055982482ca5"
   },
   "outputs": [],
   "source": [
    "finaldf.head()"
   ]
  },
  {
   "cell_type": "code",
   "execution_count": null,
   "id": "i6v-vGAwFx3L",
   "metadata": {
    "id": "i6v-vGAwFx3L"
   },
   "outputs": [],
   "source": [
    "df=finaldf.copy()\n"
   ]
  },
  {
   "cell_type": "code",
   "execution_count": null,
   "id": "ifF0Xth2Fx6e",
   "metadata": {
    "id": "ifF0Xth2Fx6e"
   },
   "outputs": [],
   "source": [
    "df=df.drop(columns=['latitude_grid','longitude_grid','sensor_id','End_Time','Lat','Long','date','pm1.0_aqi','pm2.5_aqi','pm10.0_aqi','Site','SiteID'])"
   ]
  },
  {
   "cell_type": "code",
   "execution_count": null,
   "id": "s3s5tJVoot1u",
   "metadata": {
    "colab": {
     "base_uri": "https://localhost:8080/"
    },
    "id": "s3s5tJVoot1u",
    "outputId": "0dc90c62-9234-4495-c42f-ad4d5f9c2dd3"
   },
   "outputs": [],
   "source": [
    "df.columns"
   ]
  },
  {
   "cell_type": "code",
   "execution_count": null,
   "id": "MTUSDQRzj1XN",
   "metadata": {
    "colab": {
     "base_uri": "https://localhost:8080/",
     "height": 81
    },
    "id": "MTUSDQRzj1XN",
    "outputId": "927b072c-eec4-45f1-eb31-fe6d5c99635c"
   },
   "outputs": [],
   "source": [
    "df.head(1)"
   ]
  },
  {
   "cell_type": "code",
   "execution_count": null,
   "id": "pYJ-EyBExmMS",
   "metadata": {
    "colab": {
     "base_uri": "https://localhost:8080/",
     "height": 581
    },
    "id": "pYJ-EyBExmMS",
    "outputId": "c2795fd8-4dac-480c-f927-91e21eda552b"
   },
   "outputs": [],
   "source": [
    "import pandas as pd\n",
    "import matplotlib.pyplot as plt\n",
    "import seaborn as sns\n",
    "from scipy.stats import skew\n",
    "\n",
    "\n",
    "plt.figure(figsize=(12, 6))\n",
    "\n",
    "plt.subplot(1, 2, 1)\n",
    "sns.histplot(df['AQI'], kde=True, bins=30)\n",
    "plt.title('Histogram of AQI')\n",
    "\n",
    "plt.subplot(1, 2, 2)\n",
    "sns.boxplot(x=df['AQI'])\n",
    "plt.title('Box Plot of AQI')\n",
    "\n",
    "plt.show()\n",
    "\n",
    "aqi_skewness = skew(df['AQI'].dropna())\n",
    "print(f'Skewness of AQI: {aqi_skewness}')\n"
   ]
  },
  {
   "cell_type": "code",
   "execution_count": null,
   "id": "fEhblja8xmVs",
   "metadata": {
    "colab": {
     "base_uri": "https://localhost:8080/",
     "height": 581
    },
    "id": "fEhblja8xmVs",
    "outputId": "7e7aa4c8-cb5c-4419-c3a4-54080ecd4f04"
   },
   "outputs": [],
   "source": [
    "import numpy as np\n",
    "\n",
    "# Apply log transformation\n",
    "df['log_AQI'] = np.log(df['AQI'].replace(0, np.nan)).dropna()\n",
    "\n",
    "plt.figure(figsize=(12, 6))\n",
    "\n",
    "plt.subplot(1, 2, 1)\n",
    "sns.histplot(df['log_AQI'], kde=True, bins=30)\n",
    "plt.title('Histogram of Log-Transformed AQI')\n",
    "\n",
    "plt.subplot(1, 2, 2)\n",
    "sns.boxplot(x=df['log_AQI'])\n",
    "plt.title('Box Plot of Log-Transformed AQI')\n",
    "\n",
    "plt.show()\n",
    "\n",
    "\n",
    "log_aqi_skewness = skew(df['log_AQI'].dropna())\n",
    "print(f'Skewness of Log-Transformed AQI: {log_aqi_skewness}')\n"
   ]
  },
  {
   "cell_type": "code",
   "execution_count": null,
   "id": "BpmKSRmqxmaz",
   "metadata": {
    "colab": {
     "base_uri": "https://localhost:8080/"
    },
    "id": "BpmKSRmqxmaz",
    "outputId": "c20254e4-29ae-4cd5-bab8-dc2a91b232d8"
   },
   "outputs": [],
   "source": [
    "\n",
    "Q1 = df['AQI'].quantile(0.25)\n",
    "Q3 = df['AQI'].quantile(0.75)\n",
    "IQR = Q3 - Q1\n",
    "\n",
    "outliers = df[(df['AQI'] < (Q1 - 1.5 * IQR)) | (df['AQI'] > (Q3 + 1.5 * IQR))]\n",
    "\n",
    "print(f'Number of outliers: {len(outliers)}')\n",
    "print(outliers)\n"
   ]
  },
  {
   "cell_type": "code",
   "execution_count": null,
   "id": "VcTOBEDbyvk0",
   "metadata": {
    "colab": {
     "base_uri": "https://localhost:8080/"
    },
    "id": "VcTOBEDbyvk0",
    "outputId": "b649e3b6-9d76-41dc-9f86-e7058f227247"
   },
   "outputs": [],
   "source": [
    "df.columns"
   ]
  },
  {
   "cell_type": "code",
   "execution_count": null,
   "id": "BdVCEYdUx7Pi",
   "metadata": {
    "colab": {
     "base_uri": "https://localhost:8080/",
     "height": 81
    },
    "id": "BdVCEYdUx7Pi",
    "outputId": "1b86eb5c-2860-4729-9d77-6f1423f6d1af"
   },
   "outputs": [],
   "source": [
    "df.head(1)"
   ]
  },
  {
   "cell_type": "code",
   "execution_count": null,
   "id": "ygfdPKxGx7f1",
   "metadata": {
    "id": "ygfdPKxGx7f1"
   },
   "outputs": [],
   "source": []
  },
  {
   "cell_type": "code",
   "execution_count": null,
   "id": "_I77Xjedx7ke",
   "metadata": {
    "id": "_I77Xjedx7ke"
   },
   "outputs": [],
   "source": [
    "#Linear Regression model"
   ]
  },
  {
   "cell_type": "code",
   "execution_count": null,
   "id": "03uTQ3czpgDn",
   "metadata": {
    "colab": {
     "base_uri": "https://localhost:8080/"
    },
    "id": "03uTQ3czpgDn",
    "outputId": "eb23d922-cc27-48d8-d15c-6b7f1fc06b95"
   },
   "outputs": [],
   "source": [
    "import pandas as pd\n",
    "import numpy as np\n",
    "from sklearn.model_selection import train_test_split\n",
    "from sklearn.linear_model import LinearRegression\n",
    "from sklearn.metrics import mean_squared_error, mean_absolute_error, r2_score\n",
    "\n",
    "e\n",
    "data = df.copy()\n",
    "\n",
    "# Feature transformation\n",
    "data['date_time'] = pd.to_datetime(data['date_time'])\n",
    "data['hour'] = data['date_time'].dt.hour\n",
    "data['day_of_week'] = data['date_time'].dt.dayofweek\n",
    "data['month'] = data['date_time'].dt.month\n",
    "\n",
    "#  feature selection\n",
    "features = ['pm1.0', 'pm2.5', 'pm10.0',\n",
    "            'Avg_Volume', 'rain', 'temp', 'wdsp', 'hour', 'day_of_week']\n",
    "\n",
    "X = data[features]\n",
    "y = data['AQI']\n",
    "\n",
    "# Split the data into training and testing sets\n",
    "X_train, X_test, y_train, y_test = train_test_split(X, y, test_size=0.2, random_state=42)\n",
    "\n",
    "# train the model\n",
    "model = LinearRegression()\n",
    "model.fit(X_train, y_train)\n",
    "\n",
    "# Make predictions\n",
    "y_pred = model.predict(X_test)\n",
    "\n",
    "# Evaluate the model\n",
    "mse = mean_squared_error(y_test, y_pred)\n",
    "mae = mean_absolute_error(y_test, y_pred)\n",
    "r2 = r2_score(y_test, y_pred)\n",
    "\n",
    "print(f'Mean Squared Error: {mse}')\n",
    "print(f'Mean Absolute Error: {mae}')\n",
    "print(f'R² Score: {r2}')\n",
    "\n",
    "# Coefficients of the model\n",
    "coefficients = pd.DataFrame(model.coef_, features, columns=['Coefficient'])\n",
    "print(coefficients)\n"
   ]
  },
  {
   "cell_type": "code",
   "execution_count": null,
   "id": "wiIP7vM-HHiY",
   "metadata": {
    "colab": {
     "base_uri": "https://localhost:8080/",
     "height": 1000
    },
    "id": "wiIP7vM-HHiY",
    "outputId": "0ad893fe-de0d-4f44-9838-ff84b1e58a6c"
   },
   "outputs": [],
   "source": [
    "import matplotlib.pyplot as plt\n",
    "\n",
    "\n",
    "plt.figure(figsize=(10, 6))\n",
    "coefficients.plot(kind='bar')\n",
    "plt.title('Feature Coefficients')\n",
    "plt.ylabel('Coefficient Value')\n",
    "plt.xlabel('Features')\n",
    "plt.xticks(rotation=45)\n",
    "plt.grid(True)\n",
    "plt.show()\n",
    "\n",
    "\n",
    "plt.figure(figsize=(10, 6))\n",
    "plt.scatter(y_test, y_pred, alpha=0.3)\n",
    "plt.plot([y_test.min(), y_test.max()], [y_test.min(), y_test.max()], 'k--', lw=2)\n",
    "plt.title('Actual vs Predicted AQI')\n",
    "plt.xlabel('Actual AQI')\n",
    "plt.ylabel('Predicted AQI')\n",
    "plt.grid(True)\n",
    "plt.show()\n"
   ]
  },
  {
   "cell_type": "code",
   "execution_count": null,
   "id": "O4ZwekaNaRuu",
   "metadata": {
    "colab": {
     "base_uri": "https://localhost:8080/",
     "height": 564
    },
    "id": "O4ZwekaNaRuu",
    "outputId": "13a37ecd-f02c-4392-9397-02d986b29eaf"
   },
   "outputs": [],
   "source": [
    "\n",
    "mask = (y_test >= 0) & (y_test <= 100) & (y_pred >= 0) & (y_pred <= 100)\n",
    "y_test_filtered = y_test[mask]\n",
    "y_pred_filtered = y_pred[mask]\n",
    "\n",
    "\n",
    "plt.figure(figsize=(10, 6))\n",
    "plt.scatter(y_test_filtered, y_pred_filtered, alpha=0.3)\n",
    "plt.plot([0, 100], [0, 100], 'k--', lw=2)\n",
    "plt.title('Actual vs Predicted AQI (AQI Range 0-100)')\n",
    "plt.xlabel('Actual AQI')\n",
    "plt.ylabel('Predicted AQI')\n",
    "plt.grid(True)\n",
    "plt.xlim(0, 100)\n",
    "plt.ylim(0, 100)\n",
    "plt.show()\n"
   ]
  },
  {
   "cell_type": "code",
   "execution_count": null,
   "id": "YLgz4OmKaRy0",
   "metadata": {
    "id": "YLgz4OmKaRy0"
   },
   "outputs": [],
   "source": []
  },
  {
   "cell_type": "code",
   "execution_count": null,
   "id": "01pBDdk17wX5",
   "metadata": {
    "id": "01pBDdk17wX5"
   },
   "outputs": [],
   "source": [
    "#RF"
   ]
  },
  {
   "cell_type": "code",
   "execution_count": null,
   "id": "M-7Ym_LZp0vO",
   "metadata": {
    "colab": {
     "base_uri": "https://localhost:8080/"
    },
    "id": "M-7Ym_LZp0vO",
    "outputId": "d3e49bc9-b308-421d-a044-297fb8321f6a"
   },
   "outputs": [],
   "source": [
    "from sklearn.model_selection import cross_val_score, GridSearchCV\n",
    "from sklearn.ensemble import RandomForestRegressor\n",
    "\n",
    "# Cross-validation for linear regression\n",
    "cv_scores = cross_val_score(model, X, y, cv=5, scoring='r2')\n",
    "print(f'Cross-Validated R² Scores: {cv_scores}')\n",
    "print(f'Mean Cross-Validated R² Score: {np.mean(cv_scores)}')\n",
    "\n",
    "# Train a Random Forest model\n",
    "rf_model = RandomForestRegressor(random_state=42)\n",
    "rf_model.fit(X_train, y_train)\n",
    "\n",
    "# Make predictions with the Random Forest model\n",
    "y_pred_rf = rf_model.predict(X_test)\n",
    "\n",
    "# Evaluate the Random Forest model\n",
    "mse_rf = mean_squared_error(y_test, y_pred_rf)\n",
    "mae_rf = mean_absolute_error(y_test, y_pred_rf)\n",
    "r2_rf = r2_score(y_test, y_pred_rf)\n",
    "\n",
    "print(f'Random Forest Mean Squared Error: {mse_rf}')\n",
    "print(f'Random Forest Mean Absolute Error: {mae_rf}')\n",
    "print(f'Random Forest R² Score: {r2_rf}')\n"
   ]
  },
  {
   "cell_type": "code",
   "execution_count": null,
   "id": "532hhyMNp07-",
   "metadata": {
    "colab": {
     "base_uri": "https://localhost:8080/"
    },
    "id": "532hhyMNp07-",
    "outputId": "8be3bc6d-4017-44f4-adcd-951e60a1e4ae"
   },
   "outputs": [],
   "source": [
    "\n",
    "rf_model = RandomForestRegressor(random_state=42)\n",
    "rf_model.fit(X_train, y_train)\n",
    "\n",
    "# Make predictions with the Random Forest model\n",
    "y_pred_rf = rf_model.predict(X_test)\n",
    "\n",
    "# Evaluate the Random Forest model\n",
    "mse_rf = mean_squared_error(y_test, y_pred_rf)\n",
    "mae_rf = mean_absolute_error(y_test, y_pred_rf)\n",
    "r2_rf = r2_score(y_test, y_pred_rf)\n",
    "\n",
    "print(f'Random Forest Mean Squared Error: {mse_rf}')\n",
    "print(f'Random Forest Mean Absolute Error: {mae_rf}')\n",
    "print(f'Random Forest R² Score: {r2_rf}')\n",
    "\n",
    "# Feature importance of the Random Forest model\n",
    "feature_importances_rf = pd.DataFrame(rf_model.feature_importances_, features, columns=['Importance'])\n",
    "print(feature_importances_rf.sort_values(by='Importance', ascending=False))\n"
   ]
  },
  {
   "cell_type": "code",
   "execution_count": null,
   "id": "tkcqeRm9ihM0",
   "metadata": {
    "id": "tkcqeRm9ihM0"
   },
   "outputs": [],
   "source": []
  },
  {
   "cell_type": "code",
   "execution_count": null,
   "id": "PNm4AMgRkrIw",
   "metadata": {
    "id": "PNm4AMgRkrIw"
   },
   "outputs": [],
   "source": []
  },
  {
   "cell_type": "code",
   "execution_count": null,
   "id": "VU4J3d0UkrL9",
   "metadata": {
    "id": "VU4J3d0UkrL9"
   },
   "outputs": [],
   "source": []
  },
  {
   "cell_type": "code",
   "execution_count": null,
   "id": "gF_OP-Ofe29c",
   "metadata": {
    "id": "gF_OP-Ofe29c"
   },
   "outputs": [],
   "source": []
  },
  {
   "cell_type": "code",
   "execution_count": null,
   "id": "CTVN3aEAe3KP",
   "metadata": {
    "id": "CTVN3aEAe3KP"
   },
   "outputs": [],
   "source": [
    "#PARAMETERS Selection for SARIMAX"
   ]
  },
  {
   "cell_type": "code",
   "execution_count": null,
   "id": "Qsb_AZtkrJRV",
   "metadata": {
    "colab": {
     "base_uri": "https://localhost:8080/"
    },
    "id": "Qsb_AZtkrJRV",
    "outputId": "2963b36e-0cc8-41de-d958-1a35f8f16700"
   },
   "outputs": [],
   "source": [
    "pip install pmdarima"
   ]
  },
  {
   "cell_type": "code",
   "execution_count": null,
   "id": "vBAscG7Ve3M4",
   "metadata": {
    "colab": {
     "base_uri": "https://localhost:8080/",
     "height": 1000
    },
    "id": "vBAscG7Ve3M4",
    "outputId": "d67973e6-5404-4a4e-8b1c-f6d87ac21e01"
   },
   "outputs": [],
   "source": [
    "import pandas as pd\n",
    "import numpy as np\n",
    "from statsmodels.tsa.statespace.sarimax import SARIMAX\n",
    "from sklearn.metrics import mean_squared_error, mean_absolute_error, r2_score\n",
    "import matplotlib.pyplot as plt\n",
    "from pmdarima import auto_arima\n",
    "\n",
    "\n",
    "data = df.copy()\n",
    "data['date_time'] = pd.to_datetime(data['date_time'])\n",
    "data.set_index('date_time', inplace=True)\n",
    "\n",
    "\n",
    "# Feature engineering (example)\n",
    "data['AQI_lag1'] = data['AQI'].shift(1)\n",
    "data['AQI_lag24'] = data['AQI'].shift(24)\n",
    "\n",
    "\n",
    "# Extract features and target\n",
    "exog_vars = ['Avg_Volume', 'rain', 'temp', 'wdsp', 'AQI_lag1', 'AQI_lag24']\n",
    "exog = data[exog_vars]\n",
    "endog = data['AQI']\n",
    "\n",
    "# Split data\n",
    "train_size = int(len(data) * 0.8)\n",
    "train_endog = endog[:train_size]\n",
    "train_exog = exog[:train_size]\n",
    "test_endog = endog[train_size:]\n",
    "test_exog = exog[train_size:]\n",
    "\n",
    "# optimal SARIMAX parameters\n",
    "auto_model = auto_arima(train_endog, exogenous=train_exog, seasonal=True, m=24, trace=True, error_action='ignore', suppress_warnings=True)\n",
    "print(auto_model.summary())\n",
    "\n",
    "\n"
   ]
  },
  {
   "cell_type": "code",
   "execution_count": null,
   "id": "XZ8GiU9hQ6wY",
   "metadata": {
    "colab": {
     "base_uri": "https://localhost:8080/",
     "height": 1000
    },
    "id": "XZ8GiU9hQ6wY",
    "outputId": "35571b50-f34c-4ec5-e7ee-a4788457bb6c"
   },
   "outputs": [],
   "source": [
    "import pandas as pd\n",
    "import numpy as np\n",
    "from statsmodels.tsa.statespace.sarimax import SARIMAX\n",
    "from sklearn.metrics import mean_squared_error, mean_absolute_error, r2_score\n",
    "import matplotlib.pyplot as plt\n",
    "\n",
    "\n",
    "data = df.copy()\n",
    "data['date_time'] = pd.to_datetime(data['date_time'])\n",
    "data.set_index('date_time', inplace=True)\n",
    "\n",
    "# Feature engineering\n",
    "data['AQI_lag1'] = data['AQI'].shift(1)\n",
    "data['AQI_lag24'] = data['AQI'].shift(24)\n",
    "\n",
    "exog_vars = ['Avg_Volume', 'rain', 'temp', 'wdsp', 'AQI_lag1', 'AQI_lag24']\n",
    "data[exog_vars] = data[exog_vars].fillna(data[exog_vars].mean())\n",
    "\n",
    "# Extract features and target\n",
    "exog = data[exog_vars]\n",
    "endog = data['AQI']\n",
    "\n",
    "# Split data\n",
    "train_size = int(len(data) * 0.8)\n",
    "train_endog = endog[:train_size]\n",
    "train_exog = exog[:train_size]\n",
    "test_endog = endog[train_size:]\n",
    "test_exog = exog[train_size:]\n",
    "\n",
    "# Initial parameters from plot PACF & ACF\n",
    "p = 1\n",
    "d = 0\n",
    "q = 1\n",
    "P = 0\n",
    "D = 0\n",
    "Q = 0\n",
    "m = 24\n",
    "\n",
    "#the SARIMAX model with initial parameters\n",
    "model = SARIMAX(train_endog, exog=train_exog, order=(p, d, q), seasonal_order=(P, D, Q, m))\n",
    "sarimax_result = model.fit(disp=False)\n",
    "\n",
    "# predictions\n",
    "pred = sarimax_result.get_prediction(start=train_size, end=len(data)-1, exog=test_exog)\n",
    "pred_mean = pred.predicted_mean\n",
    "pred_ci = pred.conf_int()\n",
    "\n",
    "# Evaluate the model\n",
    "mse = mean_squared_error(test_endog, pred_mean)\n",
    "mae = mean_absolute_error(test_endog, pred_mean)\n",
    "r2 = r2_score(test_endog, pred_mean)\n",
    "\n",
    "print(f'Mean Squared Error: {mse}')\n",
    "print(f'Mean Absolute Error: {mae}')\n",
    "print(f'R² Score: {r2}')\n",
    "\n",
    "\n",
    "plt.figure(figsize=(10, 6))\n",
    "plt.plot(data.index, endog, label='Observed')\n",
    "plt.plot(data.index[train_size:], pred_mean, color='r', label='Forecast')\n",
    "plt.fill_between(data.index[train_size:], pred_ci.iloc[:, 0], pred_ci.iloc[:, 1], color='pink', alpha=0.3)\n",
    "plt.xlabel('Date Time')\n",
    "plt.ylabel('AQI')\n",
    "plt.legend()\n",
    "plt.show()\n",
    "\n",
    "\n",
    "print(sarimax_result.summary())\n",
    "\n"
   ]
  },
  {
   "cell_type": "code",
   "execution_count": null,
   "id": "ngdKzeY8Q60Q",
   "metadata": {
    "colab": {
     "base_uri": "https://localhost:8080/",
     "height": 542
    },
    "id": "ngdKzeY8Q60Q",
    "outputId": "68d5839f-514c-46d8-f032-d09a8a385712"
   },
   "outputs": [],
   "source": [
    "plt.figure(figsize=(10, 6))\n",
    "plt.plot(data.index, endog, label='Observed')\n",
    "plt.plot(data.index[train_size:], pred_mean, color='r', label='Forecast')\n",
    "plt.fill_between(data.index[train_size:], pred_ci.iloc[:, 0], pred_ci.iloc[:, 1], color='pink', alpha=0.3)\n",
    "plt.xlabel('Month Date Time')\n",
    "plt.ylabel('AQI')\n",
    "plt.legend()\n",
    "plt.show()"
   ]
  },
  {
   "cell_type": "code",
   "execution_count": null,
   "id": "YUQf1wrl17Yh",
   "metadata": {
    "id": "YUQf1wrl17Yh"
   },
   "outputs": [],
   "source": []
  },
  {
   "cell_type": "code",
   "execution_count": null,
   "id": "eJozUWnI17ht",
   "metadata": {
    "id": "eJozUWnI17ht"
   },
   "outputs": [],
   "source": []
  },
  {
   "cell_type": "code",
   "execution_count": null,
   "id": "ffRQUqBdrKLd",
   "metadata": {
    "id": "ffRQUqBdrKLd"
   },
   "outputs": [],
   "source": []
  },
  {
   "cell_type": "code",
   "execution_count": null,
   "id": "S8URjy6W3eJU",
   "metadata": {
    "id": "S8URjy6W3eJU"
   },
   "outputs": [],
   "source": [
    "#LSTM"
   ]
  },
  {
   "cell_type": "code",
   "execution_count": null,
   "id": "kn-y-NvI5Ulo",
   "metadata": {
    "colab": {
     "base_uri": "https://localhost:8080/",
     "height": 1000
    },
    "id": "kn-y-NvI5Ulo",
    "outputId": "2614b7a2-6b43-4da7-e514-9e4d055c5098"
   },
   "outputs": [],
   "source": [
    "import pandas as pd\n",
    "import numpy as np\n",
    "from sklearn.preprocessing import MinMaxScaler\n",
    "from tensorflow.keras.models import Sequential\n",
    "from tensorflow.keras.layers import LSTM, Dense\n",
    "from sklearn.metrics import mean_squared_error, mean_absolute_error, r2_score\n",
    "import matplotlib.pyplot as plt\n",
    "\n",
    "\n",
    "data = df.copy()\n",
    "data.sort_values('date_time', inplace=True)\n",
    "\n",
    "\n",
    "# Feature transformation\n",
    "data['date_time'] = pd.to_datetime(data['date_time'])\n",
    "data = data.sort_values('date_time')\n",
    "\n",
    "# Extract endogenous variable (AQI)\n",
    "endog = data['AQI'].values\n",
    "\n",
    "# Normalize the AQI data\n",
    "scaler = MinMaxScaler()\n",
    "endog_scaled = scaler.fit_transform(endog.reshape(-1, 1))\n",
    "\n",
    "# Create sequences for LSTM\n",
    "def create_sequences(data, seq_length):\n",
    "    xs, ys = [], []\n",
    "    for i in range(len(data) - seq_length):\n",
    "        x = data[i:i + seq_length]\n",
    "        y = data[i + seq_length]\n",
    "        xs.append(x)\n",
    "        ys.append(y)\n",
    "    return np.array(xs), np.array(ys)\n",
    "\n",
    "# Set sequence length\n",
    "seq_length = 24  # 24 hours\n",
    "X, y = create_sequences(endog_scaled, seq_length)\n",
    "\n",
    "# Split the data into training and testing sets\n",
    "train_size = int(len(X) * 0.8)\n",
    "X_train, X_test = X[:train_size], X[train_size:]\n",
    "y_train, y_test = y[:train_size], y[train_size:]\n",
    "\n",
    "# Define LSTM model\n",
    "model = Sequential()\n",
    "model.add(LSTM(50, activation='relu', input_shape=(X_train.shape[1], 1)))\n",
    "model.add(Dense(1))\n",
    "model.compile(optimizer='adam', loss='mse')\n",
    "\n",
    "# Train the model\n",
    "history = model.fit(X_train, y_train, epochs=10, batch_size=64, validation_split=0.1, verbose=1)\n",
    "\n",
    "# Make predictions\n",
    "y_pred = model.predict(X_test)\n",
    "y_pred = scaler.inverse_transform(y_pred)\n",
    "y_test = scaler.inverse_transform(y_test.reshape(-1, 1))\n",
    "\n",
    "# Evaluate the model\n",
    "mse = mean_squared_error(y_test, y_pred)\n",
    "mae = mean_absolute_error(y_test, y_pred)\n",
    "r2 = r2_score(y_test, y_pred)\n",
    "\n",
    "print(f'Mean Squared Error: {mse}')\n",
    "print(f'Mean Absolute Error: {mae}')\n",
    "print(f'R² Score: {r2}')\n",
    "\n",
    "\n",
    "plt.figure(figsize=(10, 6))\n",
    "plt.plot(data['date_time'][seq_length + train_size:], y_test, label='Observed')\n",
    "plt.plot(data['date_time'][seq_length + train_size:], y_pred, color='r', label='Forecast')\n",
    "plt.xlabel('Date Time')\n",
    "plt.ylabel('AQI')\n",
    "plt.legend()\n",
    "plt.show()\n",
    "\n",
    "plt.figure(figsize=(10, 6))\n",
    "plt.plot(history.history['loss'], label='Train Loss')\n",
    "plt.plot(history.history['val_loss'], label='Validation Loss')\n",
    "plt.xlabel('Epoch')\n",
    "plt.ylabel('Loss')\n",
    "plt.legend()\n",
    "plt.show()\n"
   ]
  },
  {
   "cell_type": "code",
   "execution_count": null,
   "id": "RL7S7a0CNwyF",
   "metadata": {
    "id": "RL7S7a0CNwyF"
   },
   "outputs": [],
   "source": []
  },
  {
   "cell_type": "code",
   "execution_count": null,
   "id": "kEhiJ-DVNw1O",
   "metadata": {
    "id": "kEhiJ-DVNw1O"
   },
   "outputs": [],
   "source": [
    "#modified LSTM model with dropout layer"
   ]
  },
  {
   "cell_type": "code",
   "execution_count": null,
   "id": "LZi7Dh1c-SCY",
   "metadata": {
    "id": "LZi7Dh1c-SCY"
   },
   "outputs": [],
   "source": [
    "import pandas as pd\n",
    "import numpy as np\n",
    "from sklearn.preprocessing import MinMaxScaler\n",
    "from tensorflow.keras.models import Sequential\n",
    "from tensorflow.keras.layers import LSTM, Dense\n",
    "from sklearn.metrics import mean_squared_error, mean_absolute_error, r2_score\n",
    "import matplotlib.pyplot as plt"
   ]
  },
  {
   "cell_type": "code",
   "execution_count": null,
   "id": "tF-SrLsXiy0Q",
   "metadata": {
    "id": "tF-SrLsXiy0Q"
   },
   "outputs": [],
   "source": [
    "data = df.copy()\n",
    "data.sort_values('date_time', inplace=True)\n",
    "\n",
    "# Feature transformation\n",
    "data['date_time'] = pd.to_datetime(data['date_time'])\n",
    "data = data.sort_values('date_time')\n",
    "\n",
    "# Extract endogenous variable (AQI)\n",
    "endog = data['AQI'].values\n",
    "\n",
    "# Normalize the AQI data\n",
    "scaler = MinMaxScaler()\n",
    "endog_scaled = scaler.fit_transform(endog.reshape(-1, 1))\n",
    "\n",
    "# Create sequences for LSTM\n",
    "def create_sequences(data, seq_length):\n",
    "    xs, ys = [], []\n",
    "    for i in range(len(data) - seq_length):\n",
    "        x = data[i:i + seq_length]\n",
    "        y = data[i + seq_length]\n",
    "        xs.append(x)\n",
    "        ys.append(y)\n",
    "    return np.array(xs), np.array(ys)\n",
    "\n",
    "# Set sequence length\n",
    "seq_length = 24  # 24 hours\n",
    "X, y = create_sequences(endog_scaled, seq_length)\n",
    "\n",
    "# Split the data into training and testing sets\n",
    "train_size = int(len(X) * 0.8)\n",
    "X_train, X_test = X[:train_size], X[train_size:]\n",
    "y_train, y_test = y[:train_size], y[train_size:]\n"
   ]
  },
  {
   "cell_type": "code",
   "execution_count": null,
   "id": "StkcDw-NsEbJ",
   "metadata": {
    "colab": {
     "base_uri": "https://localhost:8080/",
     "height": 1000
    },
    "id": "StkcDw-NsEbJ",
    "outputId": "715a6197-0df7-49e7-d007-6a6f69fe5722"
   },
   "outputs": [],
   "source": [
    "from tensorflow.keras.models import Sequential\n",
    "from tensorflow.keras.layers import LSTM, Dense, Dropout\n",
    "\n",
    "# the LSTM model with dropout\n",
    "model = Sequential()\n",
    "model.add(LSTM(100, activation='relu', return_sequences=True, input_shape=(X_train.shape[1], 1)))\n",
    "model.add(Dropout(0.2))\n",
    "model.add(LSTM(50, activation='relu'))\n",
    "model.add(Dropout(0.2))\n",
    "model.add(Dense(1))\n",
    "model.compile(optimizer='adam', loss='mse')\n",
    "\n",
    "# Train the model\n",
    "history = model.fit(X_train, y_train, epochs=10, batch_size=64, validation_split=0.1, verbose=1)\n",
    "\n",
    "# Make predictions\n",
    "y_pred = model.predict(X_test)\n",
    "y_pred = scaler.inverse_transform(y_pred)\n",
    "y_test = scaler.inverse_transform(y_test.reshape(-1, 1))\n",
    "\n",
    "# Evaluate the model\n",
    "mse = mean_squared_error(y_test, y_pred)\n",
    "mae = mean_absolute_error(y_test, y_pred)\n",
    "r2 = r2_score(y_test, y_pred)\n",
    "\n",
    "print(f'Mean Squared Error: {mse}')\n",
    "print(f'Mean Absolute Error: {mae}')\n",
    "print(f'R² Score: {r2}')\n",
    "\n",
    "plt.figure(figsize=(10, 6))\n",
    "plt.plot(data['date_time'][seq_length + train_size:], y_test, label='Observed')\n",
    "plt.plot(data['date_time'][seq_length + train_size:], y_pred, color='r', label='Forecast')\n",
    "plt.xlabel('Date Time')\n",
    "plt.ylabel('AQI')\n",
    "plt.legend()\n",
    "plt.show()\n",
    "\n",
    "plt.figure(figsize=(10, 6))\n",
    "plt.plot(history.history['loss'], label='Train Loss')\n",
    "plt.plot(history.history['val_loss'], label='Validation Loss')\n",
    "plt.xlabel('Epoch')\n",
    "plt.ylabel('Loss')\n",
    "plt.legend()\n",
    "plt.show()\n"
   ]
  },
  {
   "cell_type": "code",
   "execution_count": null,
   "id": "OgYUSAGpAW5Z",
   "metadata": {
    "id": "OgYUSAGpAW5Z"
   },
   "outputs": [],
   "source": []
  },
  {
   "cell_type": "code",
   "execution_count": null,
   "id": "XvVz0pX3AW8S",
   "metadata": {
    "id": "XvVz0pX3AW8S"
   },
   "outputs": [],
   "source": [
    "#ADF Test"
   ]
  },
  {
   "cell_type": "code",
   "execution_count": null,
   "id": "jZi9K0n4AW_E",
   "metadata": {
    "colab": {
     "base_uri": "https://localhost:8080/",
     "height": 649
    },
    "id": "jZi9K0n4AW_E",
    "outputId": "352211df-e1ea-47d5-8a47-4c6d88778ed6"
   },
   "outputs": [],
   "source": [
    "#PDQS\n",
    "import matplotlib.pyplot as plt\n",
    "from statsmodels.graphics.tsaplots import plot_acf, plot_pacf\n",
    "from statsmodels.tsa.stattools import adfuller\n",
    "\n",
    "def test_stationarity(series):\n",
    "    result = adfuller(series.dropna(), autolag='AIC')\n",
    "    print(f'ADF Statistic: {result[0]}')\n",
    "    print(f'p-value: {result[1]}')\n",
    "    print('Critical Values:')\n",
    "    for key, value in result[4].items():\n",
    "        print(f'\\t{key}: {value}')\n",
    "\n",
    "# Plot ACF and PACF\n",
    "def plot_acf_pacf(series, lags=40):\n",
    "    plt.figure(figsize=(12, 6))\n",
    "    plt.subplot(121)\n",
    "    plot_acf(series, lags=lags, ax=plt.gca(), title='ACF')\n",
    "    plt.subplot(122)\n",
    "    plot_pacf(series, lags=lags, ax=plt.gca(), title='PACF')\n",
    "    plt.show()\n",
    "\n",
    "test_stationarity(df['AQI'])\n",
    "plot_acf_pacf(df['AQI'])\n"
   ]
  },
  {
   "cell_type": "code",
   "execution_count": null,
   "id": "bvkAy6oKjeBl",
   "metadata": {
    "colab": {
     "base_uri": "https://localhost:8080/",
     "height": 922
    },
    "id": "bvkAy6oKjeBl",
    "outputId": "e7eab6f5-4d50-485a-a2d6-5154c8b3dfdb"
   },
   "outputs": [],
   "source": [
    "import pandas as pd\n",
    "import numpy as np\n",
    "import matplotlib.pyplot as plt\n",
    "from statsmodels.tsa.seasonal import seasonal_decompose\n",
    "from statsmodels.graphics.tsaplots import plot_acf\n",
    "from statsmodels.tsa.stattools import adfuller\n",
    "\n",
    "\n",
    "df['date_time'] = pd.to_datetime(df['date_time'])\n",
    "df.set_index('date_time', inplace=True)\n",
    "\n",
    "\n",
    "df.fillna(method='ffill', inplace=True)\n",
    "\n",
    "# Seasonal Decomposition\n",
    "result = seasonal_decompose(df['AQI'], model='additive', period=365)\n",
    "\n",
    "result.plot()\n",
    "plt.show()\n",
    "\n",
    "plot_acf(df['AQI'], lags=365)\n",
    "plt.show()\n"
   ]
  },
  {
   "cell_type": "code",
   "execution_count": null,
   "id": "pnIL-x7ejeRG",
   "metadata": {
    "id": "pnIL-x7ejeRG"
   },
   "outputs": [],
   "source": []
  },
  {
   "cell_type": "code",
   "execution_count": null,
   "id": "iH5qmtEPjeU2",
   "metadata": {
    "id": "iH5qmtEPjeU2"
   },
   "outputs": [],
   "source": []
  },
  {
   "cell_type": "code",
   "execution_count": null,
   "id": "9IvUietZjeYq",
   "metadata": {
    "id": "9IvUietZjeYq"
   },
   "outputs": [],
   "source": []
  },
  {
   "cell_type": "code",
   "execution_count": null,
   "id": "88cvWdqrjecx",
   "metadata": {
    "id": "88cvWdqrjecx"
   },
   "outputs": [],
   "source": []
  },
  {
   "cell_type": "code",
   "execution_count": null,
   "id": "M3zuKA1T__gV",
   "metadata": {
    "id": "M3zuKA1T__gV"
   },
   "outputs": [],
   "source": []
  },
  {
   "cell_type": "code",
   "execution_count": null,
   "id": "DE8r493EAlk7",
   "metadata": {
    "id": "DE8r493EAlk7"
   },
   "outputs": [],
   "source": []
  },
  {
   "cell_type": "code",
   "execution_count": null,
   "id": "6fhK3FbZBBAz",
   "metadata": {
    "id": "6fhK3FbZBBAz"
   },
   "outputs": [],
   "source": []
  },
  {
   "cell_type": "code",
   "execution_count": null,
   "id": "UEKCDs7bAlo0",
   "metadata": {
    "id": "UEKCDs7bAlo0"
   },
   "outputs": [],
   "source": []
  },
  {
   "cell_type": "code",
   "execution_count": null,
   "id": "s6Ki5fOGAltD",
   "metadata": {
    "id": "s6Ki5fOGAltD"
   },
   "outputs": [],
   "source": []
  },
  {
   "cell_type": "code",
   "execution_count": null,
   "id": "7Z71hUy1Alxj",
   "metadata": {
    "id": "7Z71hUy1Alxj"
   },
   "outputs": [],
   "source": []
  },
  {
   "cell_type": "code",
   "execution_count": null,
   "id": "h9ExAJjE__lw",
   "metadata": {
    "id": "h9ExAJjE__lw"
   },
   "outputs": [],
   "source": []
  },
  {
   "cell_type": "code",
   "execution_count": null,
   "id": "l664sLVQsA23",
   "metadata": {
    "id": "l664sLVQsA23"
   },
   "outputs": [],
   "source": []
  }
 ],
 "metadata": {
  "accelerator": "GPU",
  "colab": {
   "gpuType": "T4",
   "machine_shape": "hm",
   "provenance": []
  },
  "kernelspec": {
   "display_name": "Python 3",
   "name": "python3"
  },
  "language_info": {
   "codemirror_mode": {
    "name": "ipython",
    "version": 3
   },
   "file_extension": ".py",
   "mimetype": "text/x-python",
   "name": "python",
   "nbconvert_exporter": "python",
   "pygments_lexer": "ipython3",
   "version": "3.11.4"
  }
 },
 "nbformat": 4,
 "nbformat_minor": 5
}
